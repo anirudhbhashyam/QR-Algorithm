{
 "cells": [
  {
   "cell_type": "code",
   "execution_count": 11,
   "metadata": {},
   "outputs": [
    {
     "name": "stdout",
     "output_type": "stream",
     "text": [
      "Setup compelete.\n"
     ]
    }
   ],
   "source": [
    "import os\n",
    "import sys\n",
    "import importlib\n",
    "\n",
    "import pandas as pd\n",
    "import numpy as np\n",
    "\n",
    "from scipy.io import mmread\n",
    "\n",
    "sys.path.append(os.path.abspath(\"./src\"))\n",
    "\n",
    "import utility as ut\n",
    "import hessenberg as hg\n",
    "from variables import *\n",
    "from qr import QR\n",
    "\n",
    "\n",
    "pd.set_option(\"display.max_columns\", 10)\n",
    "pd.set_option(\"display.width\", 1000)\n",
    "pd.set_option(\"display.precision\", 12)\n",
    "print(\"Setup compelete.\")\n"
   ]
  },
  {
   "cell_type": "markdown",
   "metadata": {},
   "source": [
    "# Hessenberg Transform"
   ]
  },
  {
   "cell_type": "markdown",
   "metadata": {},
   "source": [
    "The Hessenberg transform is a similarity transformation used to reduce a complex matrix to hessenberg form. The following implementation performs the transform using *householder vectors*. The following cells check that for a given matrix $M \\in \\mathbb{C}^{n \\times n}$,\n",
    "$$M = UHU^{*}$$\n",
    "where, H is the hessenberg form of $M$ and $U$ is a unitary matrix.\n",
    "\n",
    "The unittests present in `/tests` check for the equivalence of the eigenvalues of $M$ and $H$. "
   ]
  },
  {
   "cell_type": "markdown",
   "metadata": {},
   "source": [
    "## Complex Matrices"
   ]
  },
  {
   "cell_type": "code",
   "execution_count": 4,
   "metadata": {},
   "outputs": [
    {
     "name": "stdout",
     "output_type": "stream",
     "text": [
      "Original matrix:\n",
      "                                   0                                 1                                 2                                 3                                 4\n",
      "0 -18.828269712986+32.901384313651j  37.786437667179+23.451221934938j  -1.412707331746+37.784628551176j  20.509967602919+46.376168566229j -17.534942834591-11.149463087496j\n",
      "1  44.501117558643+18.287925638198j -12.383192777215+45.745708101596j  -0.282597816769+46.808873144995j -19.682840002050+15.448792596637j  22.857147839597-13.067357796161j\n",
      "2  -1.399528464431+18.819472975321j  -14.503902631266-1.579406884332j  24.607462504695+44.343732998387j   48.778610148204-8.030431351372j  -17.440987818192-7.285472143371j\n",
      "3  8.4360584587990+3.2196945200300j   14.022496905022+4.780312310990j -10.522483170921+14.268332848905j   45.767784159189+3.011616583698j   19.309001709631+3.533840062368j\n",
      "4   45.022702205448+8.862750749672j  -12.517190654014-8.372963244843j  11.295126736544+14.963712976262j  48.609649012251-17.647311635279j  40.903657575464+42.220948626279j\n",
      "Hessenberg transformed:\n",
      "                                   0                                 1                                 2                                 3                                 4\n",
      "0 -18.828269712986+32.901384313651j  -6.297677041740-19.982063012147j -7.0001390339240-4.4665623895570j -13.199113742290-37.116298252425j -64.784326796498-12.405652157096j\n",
      "1 -64.468206657421-26.493486771994j  10.239712832233+40.308430165809j -42.387798152524+28.820839665471j   0.645388454624+30.848441597295j  -8.406381263821-26.622981893461j\n",
      "2  0.0000000000000+0.0000000000000j  -36.099303273407+4.668850926511j  38.680183916772+32.637710802708j   5.106184804258+23.587275239344j  -8.191987085001+23.012275856679j\n",
      "3  0.0000000000000+0.0000000000000j  0.0000000000000+0.0000000000000j -21.723858962819+37.198276141573j   30.681755643730-1.888937310250j   1.250684699778-23.474986049014j\n",
      "4  0.0000000000000+0.0000000000000j  0.0000000000000+0.0000000000000j  0.0000000000000+0.0000000000000j -31.376886120037+32.857767840442j  19.294059069397+64.264802651693j\n",
      "Transformation matrix:\n",
      "           0                               1                               2                               3                               4\n",
      "0  1.0+0.0j  0.000000000000+0.000000000000j  0.000000000000+0.000000000000j  0.000000000000+0.000000000000j  0.000000000000+0.000000000000j\n",
      "1  0.0+0.0j -0.690280059986+0.000000000000j -0.459866101422-0.106076381660j  0.070256858740+0.089876855463j -0.534248083926+0.048471829731j\n",
      "2  0.0+0.0j -0.084060062961-0.257373822997j -0.426476383751-0.075297749127j -0.617835039666-0.296137775317j  0.390642099467+0.342230618217j\n",
      "3  0.0+0.0j -0.129508323312+0.003279640329j  0.625444338569-0.011733512845j -0.578246678281+0.149734589280j -0.393902201190+0.282754186369j\n",
      "4  0.0+0.0j -0.645801324939+0.127920079331j  0.425451371921-0.131878532200j  0.167944506048-0.364106277290j  0.447589046384-0.084033280131j\n",
      "Is the transformation similar: True\n"
     ]
    }
   ],
   "source": [
    "a = -20\n",
    "b = 50\n",
    "n = 5\n",
    "m = ut.complex_matrix(n, a, b)\n",
    "print(f\"Original matrix:\\n {pd.DataFrame(m)}\")\n",
    "h, u = hg.hessenberg_transform(m) \n",
    "print(f\"Hessenberg transformed:\\n {pd.DataFrame(h)}\")\n",
    "print(f\"Transformation matrix:\\n {pd.DataFrame(u)}\")\n",
    "print(f\"Is the transformation similar: {np.allclose(u @ h @ u.conj().T - m, np.zeros((n, n)))}\")\n"
   ]
  },
  {
   "cell_type": "markdown",
   "metadata": {},
   "source": [
    "## Real Matrices"
   ]
  },
  {
   "cell_type": "markdown",
   "metadata": {},
   "source": [
    "### Random Matrices"
   ]
  },
  {
   "cell_type": "code",
   "execution_count": 5,
   "metadata": {},
   "outputs": [
    {
     "name": "stdout",
     "output_type": "stream",
     "text": [
      "Original matrix:\n",
      "                  0                1                2                3                4\n",
      "0  -8.231157281977  15.785892986453  13.221022642740  25.571700608075   1.958510472212\n",
      "1  14.793812408463  49.476576785424   4.313167331817  32.565371512466  46.609064191689\n",
      "2   4.309667453821  15.327729910082  27.979778029236  30.763995452227  -6.423218013874\n",
      "3  34.423191299996   5.701647134297 -19.074713468268  48.987038398312  36.194928167937\n",
      "4  10.759657530223  -9.351780244926  33.567790702914  25.286227288989  38.141006709085\n",
      "Hessenberg transformed:\n",
      "                  0                1                2                3                4\n",
      "0  -8.231157281977 -30.389197387796  -7.450868767431  -6.591552864001  -7.698711576332\n",
      "1 -39.219337686697  82.075908800405  -0.878043712643 -12.161146702485 -37.933364915704\n",
      "2   0.000000000000  44.398402014907  38.722585915113   9.721904312394  -1.137913310155\n",
      "3   0.000000000000   0.000000000000 -12.810478070155  22.488986407369  25.035615434419\n",
      "4   0.000000000000   0.000000000000   0.000000000000 -38.454387897038  21.296918799170\n",
      "Transformation matrix:\n",
      "      0               1               2               3               4\n",
      "0  1.0  0.000000000000  0.000000000000  0.000000000000  0.000000000000\n",
      "1  0.0 -0.377207094282 -0.665501361395  0.527710293688 -0.369248685767\n",
      "2  0.0 -0.109886288449 -0.564817148872 -0.817011638793 -0.037397513669\n",
      "3  0.0 -0.877709653717  0.429246191750 -0.173008804704 -0.124263526970\n",
      "4  0.0 -0.274345722413 -0.232028518053  0.155183058057  0.920225738553\n",
      "Is the transformation similar: True\n"
     ]
    }
   ],
   "source": [
    "a = -20\n",
    "b = 50\n",
    "n = 5\n",
    "m = (b - a) * np.random.default_rng().random((n, n)) + a\n",
    "print(f\"Original matrix:\\n {pd.DataFrame(m)}\")\n",
    "h, u = hg.hessenberg_transform(m) \n",
    "print(f\"Hessenberg transformed:\\n {pd.DataFrame(h)}\")\n",
    "print(f\"Transformation matrix:\\n {pd.DataFrame(u)}\")\n",
    "print(f\"Is the transformation similar: {np.allclose(u @ h @ u.T - m, np.zeros((n, n)))}\")"
   ]
  },
  {
   "cell_type": "markdown",
   "metadata": {},
   "source": [
    "### Matrix Market"
   ]
  },
  {
   "cell_type": "code",
   "execution_count": 6,
   "metadata": {},
   "outputs": [
    {
     "name": "stdout",
     "output_type": "stream",
     "text": [
      "Is the transformation similar: True\n",
      "Is the transformation similar: True\n"
     ]
    }
   ],
   "source": [
    "files = [\"west0381\", \"blckhole\"]\n",
    "for file in files:\n",
    "\tmat = mmread(os.path.join(\"./test_matrices\", \".\".join([file, MATRIX_MARKET_FILE_EXT])))\n",
    "\tm = mat.toarray()\n",
    "\th, u = hg.hessenberg_transform(m) \n",
    "\tprint(f\"Is the transformation similar: {np.allclose(u @ h @ u.T - m, np.zeros((m.shape[0], m.shape[0])))}\")"
   ]
  },
  {
   "cell_type": "markdown",
   "metadata": {},
   "source": [
    "# QR "
   ]
  },
  {
   "cell_type": "markdown",
   "metadata": {},
   "source": [
    "For a given matrix $M \\in \\mathbb{C}^{n\\times n}$, in general, the $QR$ algorithm seeks to perform the following iteration:\n",
    "* $Q_kR_k := M_k$\n",
    "* $M_{k + 1} := R_kQ_k$\n",
    "\n",
    "This algorithm can be made more stable and efficient in two ways. The first is to use $M$ is hessenberg form and the second is use to use shifts. When $H$ (hessenberg form of $M$), is used, the $QR$ decompisition of $H$ can be procedurally generated using Givens rotation matrices, $G$ (see the documentation for explanation and generation). The generation of the QR decomposition and then the subsequent formation of $RQ$ takes place as follows\n",
    "* $R := G_1 G_2 \\dots G_k H.$\n",
    "* $Q := G_1 G_2 \\dots G_k.$\n",
    "* $H_{\\text{new}} := R G_{k}^{*} G_{k - 1}^{*} \\dots G_{1}^{*} = RQ.$\n",
    "\n",
    "where $k \\leq n - 2$.\n"
   ]
  },
  {
   "cell_type": "markdown",
   "metadata": {},
   "source": [
    "## Wilkinson Shift"
   ]
  },
  {
   "cell_type": "markdown",
   "metadata": {},
   "source": [
    "The Wilkinson shift employs stable shifts to accelerate convergence of the $QR$ hessenberg algorithm. In general the shifted algorithm looks as follows \n",
    "* $Q_kR_k := M_k - \\sigma I$\n",
    "* $M_{k + 1} := R_kQ_k + \\sigma I$\n",
    "\n",
    "The shift $\\sigma$ is calculated as detailed in the documentation. The $QR$ decomposition and subsequent formation of $RQ$ is done using the hessenberg form of $M$ and Givens matrices as shown above."
   ]
  },
  {
   "cell_type": "markdown",
   "metadata": {},
   "source": [
    "### Complex Matrices"
   ]
  },
  {
   "cell_type": "code",
   "execution_count": 10,
   "metadata": {},
   "outputs": [
    {
     "name": "stdout",
     "output_type": "stream",
     "text": [
      "                Eigenvalues (Numpy)\n",
      "0  99.917042595485+93.478114421454j\n",
      "1   45.230266247410+7.871860942562j\n",
      "2 -11.887599179127-34.047639755158j\n",
      "3 -18.439477297520+10.127609490804j\n",
      "4 -26.068468364964+45.972981280689j\n",
      "               Eigenvalues (Script)\n",
      "0  99.917042595485+93.478114421454j\n",
      "1   45.230266247410+7.871860942562j\n",
      "2 -11.887599179127-34.047639755158j\n",
      "3 -18.439477297520+10.127609490804j\n",
      "4 -26.068468364964+45.972981280688j\n",
      "Comparing closeness of eigenvelaues from numpy linalg and approximated eigenvalues from the script with tolerance 1e-08: True\n",
      "First eigenvector: [ 0.01841364+0.13003535j -0.13860175+0.03950605j -0.32434983-0.1526121j\n",
      " -0.6007521 +0.29074996j  0.44996302-0.43079225j]\n",
      "Eigenvector check: [ 0.17096843+1.00638787j  0.45030444-1.44035828j  1.70889685-0.84949751j\n",
      "  1.02859368-0.96529076j -0.961102  +0.81167621j]\n"
     ]
    }
   ],
   "source": [
    "a = -20\n",
    "b = 50\n",
    "n = 5\n",
    "tol = 1e-8\n",
    "m = ut.complex_matrix(n, a, b)\n",
    "qr_alg = QR(m)\n",
    "u, r = qr_alg.qr_wilkinson_shift(1e-128, 500)\n",
    "eigs = np.sort(np.linalg.eig(qr_alg.H.astype(np.complex128))[0])[::-1]\n",
    "eigs_extracted = np.sort(qr_alg.extract_eigs(r))[::-1]\n",
    "print(f\"{pd.DataFrame(eigs, columns = ['Eigenvalues (Numpy)'])}\")\n",
    "print(f\"{pd.DataFrame(eigs_extracted, columns = ['Eigenvalues (Script)'])}\")\n",
    "b, mm = ut.closeness(eigs_extracted, eigs, tol = tol)\n",
    "print(f\"Comparing closeness of eigenvelaues from numpy linalg and approximated eigenvalues from the script with tolerance {tol}: {b}\")\n",
    "if not b:\n",
    "    print(f\"Mismatched elements:\\n {mm}\")\n"
   ]
  },
  {
   "cell_type": "code",
   "execution_count": 15,
   "metadata": {},
   "outputs": [
    {
     "name": "stdout",
     "output_type": "stream",
     "text": [
      "                Eigenvalues (Numpy)\n",
      "0  82.834131061601+91.284265780251j\n",
      "1  51.199410674230-17.321804969126j\n",
      "2  10.609784674471+19.642699979050j\n",
      "3   9.051827887740-16.880665822175j\n",
      "4 -32.077881191663-20.716229254387j\n",
      "               Eigenvalues (Script)\n",
      "0  82.834131061601+91.284265780251j\n",
      "1  51.199410674230-17.321804969126j\n",
      "2  10.609784674471+19.642699979050j\n",
      "3   9.051827887740-16.880665822175j\n",
      "4 -32.077881191663-20.716229254387j\n",
      "Comparing closeness of eigenvelaues from numpy linalg and approximated eigenvalues from the script with tolerance 1e-08: True\n",
      "First eigenvector: [-0.3522261 -0.63977945j  0.24502904+0.39834692j  0.26831945+0.07077897j\n",
      "  0.33186447-0.18534107j  0.16063764-0.02459192j]\n",
      "Eigenvector check: [-0.1101313 -0.08833176j  0.60424206+0.65124618j  0.50060955-0.07294095j\n",
      "  0.41788974+0.46470901j  0.05738401+0.0087919j ]\n"
     ]
    }
   ],
   "source": [
    "# Generate a symmetric matrix.\n",
    "a = -20\n",
    "b = 50\n",
    "n = 5\n",
    "tol = 1e-8\n",
    "m = ut.complex_matrix(n, a, b)\n",
    "m = 0.5 * (m + m.T) \n",
    "qr_alg = QR(m)\n",
    "u, r = qr_alg.qr_wilkinson_shift(1e-128, 500)\n",
    "eigs = np.sort(np.linalg.eig(qr_alg.H.astype(np.complex128))[0])[::-1]\n",
    "eigs_extracted = np.sort(qr_alg.extract_eigs(r))[::-1]\n",
    "print(f\"{pd.DataFrame(eigs, columns = ['Eigenvalues (Numpy)'])}\")\n",
    "print(f\"{pd.DataFrame(eigs_extracted, columns = ['Eigenvalues (Script)'])}\")\n",
    "b, mm = ut.closeness(eigs_extracted, eigs, tol = tol)\n",
    "print(f\"Comparing closeness of eigenvelaues from numpy linalg and approximated eigenvalues from the script with tolerance {tol}: {b}\")\n",
    "if not b:\n",
    "    print(f\"Mismatched elements:\\n {mm}\")\n",
    "    \n",
    "# Check if the matrix isi symmetric.\n",
    "# print(f\"Is the matrix symmetric: {np.allclose(m, m.T)}\")\n",
    "\n",
    "rand_choice_eigvec = np.random.default_rng().integers(low = 0, high = n)\n",
    "eig_vec = u[:, rand_choice_eigvec]\n",
    "print(f\"First eigenvector: {eig_vec}\")\n",
    "print(f\"Eigenvector check: {(qr_alg.H @ eig_vec) / np.diag(r)[rand_choice_eigvec]}\")"
   ]
  },
  {
   "cell_type": "markdown",
   "metadata": {},
   "source": [
    "### Real Matrices"
   ]
  },
  {
   "cell_type": "markdown",
   "metadata": {},
   "source": [
    "#### Random Matrices"
   ]
  },
  {
   "cell_type": "code",
   "execution_count": 14,
   "metadata": {},
   "outputs": [
    {
     "name": "stdout",
     "output_type": "stream",
     "text": [
      "                Eigenvalues (Numpy)\n",
      "0   83.869670863615+0.000000000000j\n",
      "1  29.330356649093+16.228147596952j\n",
      "2  29.330356649093-16.228147596952j\n",
      "3  -21.698910577692+0.000000000000j\n",
      "4  -38.477305285256+0.000000000000j\n",
      "               Eigenvalues (Script)\n",
      "0   83.869670863615+0.000000000000j\n",
      "1  29.330356649093+16.228147596951j\n",
      "2  29.330356649093-16.228147596951j\n",
      "3  -21.698910577692+0.000000000000j\n",
      "4  -38.477305285256+0.000000000000j\n",
      "Comparing closeness of eigenvelaues from numpy linalg and approximated eigenvalues from the script with tolerance 1e-08: True\n"
     ]
    }
   ],
   "source": [
    "a = -20\n",
    "b = 50\n",
    "n = 5\n",
    "tol = 1e-8\n",
    "m = (b - a) * np.random.default_rng().random((n, n)) + a\n",
    "qr_alg = QR(m)\n",
    "u, r = qr_alg.qr_wilkinson_shift(1e-128, 100)\n",
    "eigs = np.sort(np.linalg.eig(qr_alg.H)[0])[::-1]\n",
    "eigs_extracted = np.sort(qr_alg.extract_eigs(r))[::-1]\n",
    "print(f\"{pd.DataFrame(eigs, columns = ['Eigenvalues (Numpy)'])}\")\n",
    "print(f\"{pd.DataFrame(eigs_extracted, columns = ['Eigenvalues (Script)'])}\")\n",
    "b, mm = ut.closeness(eigs_extracted, eigs, tol = tol)\n",
    "print(f\"Comparing closeness of eigenvelaues from numpy linalg and approximated eigenvalues from the script with tolerance {tol}: {b}\")\n",
    "if not b:\n",
    "    print(f\"Mismatched elements:\\n {mm}\")"
   ]
  },
  {
   "cell_type": "code",
   "execution_count": 13,
   "metadata": {},
   "outputs": [
    {
     "name": "stdout",
     "output_type": "stream",
     "text": [
      "   Eigenvalues (Numpy)\n",
      "0             5.0+6.0j\n",
      "1             5.0-6.0j\n",
      "2             4.0+0.0j\n",
      "3             3.0+0.0j\n",
      "4             1.0+2.0j\n",
      "5             1.0-2.0j\n",
      "   Eigenvalues (Script)\n",
      "0              5.0+6.0j\n",
      "1              5.0-6.0j\n",
      "2              4.0+0.0j\n",
      "3              3.0+0.0j\n",
      "4              1.0+2.0j\n",
      "5              1.0-2.0j\n",
      "Comparing closeness of eigenvelaues from numpy linalg and approximated eigenvalues from the script with tolerance 1e-08: True\n"
     ]
    }
   ],
   "source": [
    "m = np.array([[7, 3, 4, -11, -9, -2],\n",
    "     [-6, 4, -5, 7, 1, 12],\n",
    "     [-1, -9, 2, 2, 9, 1],\n",
    "     [-8, 0, -1, 5, 0, 8],\n",
    "     [-4, 3, -5, 7, 2, 10],\n",
    "     [6, 1, 4, -11, -7, -1]], dtype = np.float64)\n",
    "tol = 1e-8\n",
    "qr_alg = QR(m)\n",
    "u, r = qr_alg.qr_wilkinson_shift(1e-128, 100)\n",
    "eigs = np.sort(np.linalg.eig(qr_alg.H.astype(np.complex128))[0])[::-1]\n",
    "eigs_extracted = np.sort(qr_alg.extract_eigs(r))[::-1]\n",
    "print(f\"{pd.DataFrame(eigs, columns = ['Eigenvalues (Numpy)'])}\")\n",
    "print(f\"{pd.DataFrame(eigs_extracted, columns = ['Eigenvalues (Script)'])}\")\n",
    "b, mm = ut.closeness(eigs_extracted, eigs, tol = tol)\n",
    "print(f\"Comparing closeness of eigenvelaues from numpy linalg and approximated eigenvalues from the script with tolerance {tol}: {b}\")\n",
    "if not b:\n",
    "    print(f\"Mismatched elements:\\n {mm}\")"
   ]
  },
  {
   "cell_type": "markdown",
   "metadata": {},
   "source": [
    "#### Matrix Market"
   ]
  },
  {
   "cell_type": "code",
   "execution_count": 22,
   "metadata": {},
   "outputs": [
    {
     "name": "stdout",
     "output_type": "stream",
     "text": [
      "Comparing closeness of eigenvelaues from numpy linalg and approximated eigenvalues from the script with tolerance 1e-08: True\n"
     ]
    }
   ],
   "source": [
    "files = [\"gre__115\"]\n",
    "for file in files:\n",
    "\tmat = mmread(os.path.join(\"./test_matrices\", \".\".join([file, MATRIX_MARKET_FILE_EXT])))\n",
    "\tm = mat.toarray()\n",
    "\ttol = 1e-8\n",
    "\tqr_alg = QR(m)\n",
    "\tu, r = qr_alg.qr_wilkinson_shift(1e-128, 500)\n",
    "\teigs = np.sort(np.linalg.eig(qr_alg.H)[0])[::-1]\n",
    "\teigs_extracted = np.sort(qr_alg.extract_eigs(r))[::-1]\n",
    "\tb, mm = ut.closeness(eigs_extracted, eigs, tol = tol)\n",
    "\tprint(f\"Comparing closeness of eigenvelaues from numpy linalg and approximated eigenvalues from the script with tolerance {tol}: {b}\")\n",
    "\tif not b:\n",
    "\t\tprint(f\"For matrix {file}\")\n",
    "\t\tprint(f\"Number of mismatched eigenvalues: {mm.shape[0]}\")\n",
    "\t\tprint(f\"Average absolute difference in mismatched values {mm['Difference'].mean()}\")\n",
    "\t\t# with open(\"output_mm.txt\", \"w\") as f:\n",
    "\t\t# \tf.write(f\"{mm.to_string()}\")\n",
    "   \n"
   ]
  },
  {
   "cell_type": "markdown",
   "metadata": {},
   "source": [
    "## Double Shift (Inefficient)\n",
    "For real matrices that have complex eigenvalues (that come in complex conjugate pairs) the shift as explained before can be collapsed into one step (explained in the documentation)."
   ]
  },
  {
   "cell_type": "markdown",
   "metadata": {},
   "source": [
    "#### Random Matrices"
   ]
  },
  {
   "cell_type": "code",
   "execution_count": 14,
   "metadata": {},
   "outputs": [
    {
     "name": "stdout",
     "output_type": "stream",
     "text": [
      "   Eigenvalues (Numpy)\n",
      "0             5.0+6.0j\n",
      "1             5.0-6.0j\n",
      "2             4.0+0.0j\n",
      "3             3.0+0.0j\n",
      "4             1.0+2.0j\n",
      "5             1.0-2.0j\n",
      "   Eigenvalues (Script)\n",
      "0              5.0+6.0j\n",
      "1              5.0-6.0j\n",
      "2              4.0+0.0j\n",
      "3              3.0+0.0j\n",
      "4              1.0+2.0j\n",
      "5              1.0-2.0j\n",
      "Comparing closeness of eigenvelaues from numpy linalg and approximated eigenvalues from the script with tolerance 1e-08: True\n"
     ]
    }
   ],
   "source": [
    "m = np.array([[7, 3, 4, -11, -9, -2],\n",
    "     [-6, 4, -5, 7, 1, 12],\n",
    "     [-1, -9, 2, 2, 9, 1],\n",
    "     [-8, 0, -1, 5, 0, 8],\n",
    "     [-4, 3, -5, 7, 2, 10],\n",
    "     [6, 1, 4, -11, -7, -1]], dtype = np.float64)\n",
    "\n",
    "tol = 1e-8\n",
    "qr_alg = QR(m)\n",
    "u, r = qr_alg.double_shift(1e-128, 200)\n",
    "eigs = np.sort(np.linalg.eig(m)[0])[::-1]\n",
    "eigs_extracted = np.sort(qr_alg.extract_eigs(r))[::-1]\n",
    "print(f\"{pd.DataFrame(eigs, columns = ['Eigenvalues (Numpy)'])}\")\n",
    "print(f\"{pd.DataFrame(eigs_extracted, columns = ['Eigenvalues (Script)'])}\")\n",
    "b, mm = ut.closeness(eigs_extracted, eigs, tol = tol)\n",
    "print(f\"Comparing closeness of eigenvelaues from numpy linalg and approximated eigenvalues from the script with tolerance {tol}: {b}\")\n",
    "if not b:\n",
    "    print(f\"Mismatched elements:\\n {mm}\")"
   ]
  },
  {
   "cell_type": "code",
   "execution_count": 4,
   "metadata": {},
   "outputs": [
    {
     "name": "stdout",
     "output_type": "stream",
     "text": [
      "                Eigenvalues (Numpy)\n",
      "0   51.419436746842-0.000000000000j\n",
      "1  22.167285953793+32.133366474526j\n",
      "2  22.167285953793-32.133366474526j\n",
      "3  7.7293981794390+8.8070459431140j\n",
      "4  7.7293981794390-8.8070459431140j\n",
      "               Eigenvalues (Script)\n",
      "0   51.419436746843+0.000000000000j\n",
      "1  22.167285953793+32.133366474526j\n",
      "2  22.167285953793-32.133366474526j\n",
      "3  7.7293981794390+8.8070459431140j\n",
      "4  7.7293981794390-8.8070459431140j\n",
      "Comparing closeness of eigenvelaues from numpy linalg and approximated eigenvalues from the script with tolerance 1e-08: True\n"
     ]
    }
   ],
   "source": [
    "a = -20\n",
    "b = 50\n",
    "n = 5\n",
    "tol = 1e-8\n",
    "m = (b - a) * np.random.default_rng().random((n, n)) + a\n",
    "qr_alg = QR(m)\n",
    "u, r = qr_alg.double_shift(1e-128, 200)\n",
    "eigs = np.sort(np.linalg.eig(qr_alg.H.astype(np.complex128))[0])[::-1]\n",
    "eigs_extracted = np.sort(qr_alg.extract_eigs(r))[::-1]\n",
    "print(f\"{pd.DataFrame(eigs, columns = ['Eigenvalues (Numpy)'])}\")\n",
    "print(f\"{pd.DataFrame(eigs_extracted, columns = ['Eigenvalues (Script)'])}\")\n",
    "b, mm = ut.closeness(eigs_extracted, eigs, tol = tol)\n",
    "print(f\"Comparing closeness of eigenvelaues from numpy linalg and approximated eigenvalues from the script with tolerance {tol}: {b}\")\n",
    "if not b:\n",
    "    print(f\"Mismatched elements:\\n {mm}\")"
   ]
  },
  {
   "cell_type": "markdown",
   "metadata": {},
   "source": [
    "# Convergence"
   ]
  },
  {
   "cell_type": "markdown",
   "metadata": {},
   "source": [
    "## Wilkinson Shift\n",
    "\n",
    "The Wilkinson Shift (infact the shifted $QR$ algorithm in general) should converge quadratically. The alogorithm relies on the fact that the last subdiagonal element $h_{k - 1, k - 2}$ converges to 0, where $k$ is the 'active' size of the hessenberg matrix H. We expect that \n",
    "$$\\frac{h^{i + 1}_{k - 1, k - 2}}{h^{i}_{k - 1, k - 2}} \\approx \\frac{(h^{i}_{k - 1, k - 2})^2}{h^{i}_{k - 1, k - 2}} \\approx \\;\\text{constant}\\; (< 1) $$\n",
    "as $i \\rightarrow \\infty$. "
   ]
  },
  {
   "cell_type": "code",
   "execution_count": 224,
   "metadata": {},
   "outputs": [
    {
     "name": "stdout",
     "output_type": "stream",
     "text": [
      "Convergence for the Wilkinson shift.\n",
      "Query matrix\n",
      "                 0               1               2               3               4\n",
      "0  0.378974438821  0.383951514428  0.355279371794  0.861974558176  0.660416145073\n",
      "1  0.265448581905  0.249648068856  0.727177180496  0.608317333744  0.826422742058\n",
      "2  0.553861402523  0.204745464611  0.994639411330  0.457542033691  0.995244863472\n",
      "3  0.947843884728  0.518966425652  0.209057363335  0.906425326918  0.293070212917\n",
      "4  0.184365752792  0.539536998894  0.394161843026  0.783541363274  0.264402726093\n",
      "Above matrix is converted to hessenberg form when QR(m) is initialised.\n",
      "Hessenberg form of the matrix                 0               1               2               3               4\n",
      "0  0.378974438821 -1.081337992556  0.383906607940 -0.366207556689  0.044807462860\n",
      "1 -1.144388117493  1.766529094028 -0.703764029791  0.241156707912 -0.147273231665\n",
      "2  0.000000000000 -1.081977963722  0.603066934090 -0.004223510484  0.356960594832\n",
      "3  0.000000000000  0.000000000000  0.463770009593  0.117046261154  0.788665771035\n",
      "4  0.000000000000  0.000000000000  0.000000000000  0.112279234415 -0.071526756073.\n",
      "Performing 100 iterations.\n",
      "Starting...\n",
      "\n",
      "Ratio (as explained above): 0.20349598471587232\n"
     ]
    }
   ],
   "source": [
    "m = np.random.default_rng().random((5, 5))\n",
    "\n",
    "tol = 1e-8\n",
    "qr_alg = QR(m)\n",
    "\n",
    "r = qr_alg.H.copy()\n",
    "n = r.shape[0]\n",
    "iter_ = 100\n",
    "subdiagonal_elements = list()\n",
    "\n",
    "print(\"Convergence for the Wilkinson shift.\")\n",
    "print(f\"Query matrix\\n {pd.DataFrame(m)}\")\n",
    "print(f\"Above matrix is converted to hessenberg form when QR(m) is initialised.\")\n",
    "print(f\"Hessenberg form of the matrix {pd.DataFrame(qr_alg.H)}.\")\n",
    "print(f\"Performing {iter_} iterations.\")\n",
    "print(f\"Starting...\\n\")\n",
    "\n",
    "for i in range(iter_):\n",
    "\t# sigma_k = qr_alg.wilkinson_shift(r[n - 2 :, n - 2 :])\t\t\n",
    "\t# Generate a scaled identity matrix for use in the shifts.\n",
    "\tshift_mat = h[n - 1, n - 1] * np.eye(n, dtype = r.dtype)\n",
    " \n",
    "\tr -= shift_mat\n",
    "\t# Perform a step of the QR \n",
    "\t# hessenberg method.\n",
    "\tq, r = qr_alg.qr_hessenberg(r)\n",
    "\tr += shift_mat\n",
    "\t# print(f\"Submatrix \\n {pd.DataFrame(r[n - 2 :, n - 2 :])}\\n\")\n",
    "\tsubdiagonal_elements.append([abs(r[n - 1, n - 2])])\n",
    " \n",
    "for i in range(1, len(subdiagonal_elements)):\n",
    "    subdiagonal_elements[i].append(subdiagonal_elements[i][0] / subdiagonal_elements[i - 1][0])\n",
    "    \n",
    "print(f\"Ratio (as explained above): {np.mean(np.array(subdiagonal_elements[1:], dtype = np.float64), axis = 0)[1]}\")\n",
    "\t"
   ]
  }
 ],
 "metadata": {
  "interpreter": {
   "hash": "eb47dbff9c9e2c29d46d2245b140af8eba2cc8bb4f84d6e29ba35904f7ea7f22"
  },
  "kernelspec": {
   "display_name": "Python 3.10.0 ('base-new')",
   "language": "python",
   "name": "python3"
  },
  "language_info": {
   "codemirror_mode": {
    "name": "ipython",
    "version": 3
   },
   "file_extension": ".py",
   "mimetype": "text/x-python",
   "name": "python",
   "nbconvert_exporter": "python",
   "pygments_lexer": "ipython3",
   "version": "3.8.8"
  },
  "orig_nbformat": 4
 },
 "nbformat": 4,
 "nbformat_minor": 2
}
