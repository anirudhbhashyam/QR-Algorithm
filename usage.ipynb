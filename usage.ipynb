{
 "cells": [
  {
   "cell_type": "code",
   "execution_count": 5,
   "metadata": {},
   "outputs": [
    {
     "name": "stdout",
     "output_type": "stream",
     "text": [
      "Setup compelete.\n"
     ]
    }
   ],
   "source": [
    "import os\n",
    "import sys\n",
    "import importlib\n",
    "\n",
    "import pandas as pd\n",
    "import numpy as np\n",
    "\n",
    "from scipy.io import mmread\n",
    "\n",
    "sys.path.append(os.path.abspath(\"./src\"))\n",
    "\n",
    "import utility as ut\n",
    "import hessenberg as hg\n",
    "from variables import *\n",
    "from qr import QR\n",
    "\n",
    "\n",
    "pd.set_option(\"display.max_columns\", 10)\n",
    "pd.set_option(\"display.width\", 1000)\n",
    "pd.set_option(\"display.precision\", 12)\n",
    "print(\"Setup compelete.\")\n"
   ]
  },
  {
   "cell_type": "markdown",
   "metadata": {},
   "source": [
    "# Hessenberg Transform"
   ]
  },
  {
   "cell_type": "markdown",
   "metadata": {},
   "source": [
    "## Complex Matrices"
   ]
  },
  {
   "cell_type": "code",
   "execution_count": 6,
   "metadata": {},
   "outputs": [
    {
     "name": "stdout",
     "output_type": "stream",
     "text": [
      "Original matrix:\n",
      "                                   0                                 1                                 2                                 3                                 4\n",
      "0  35.081102952181-14.503119257712j   7.492552258600+42.230223168994j  3.2552069067760-8.2920810574570j  48.062449551394+37.107064156168j -17.699048962012+15.110463720002j\n",
      "1  42.236003469685-18.918366260403j  23.292840548227+31.699577771487j  -7.174232966044-12.549994806711j  47.060925873227+39.412051378583j   8.391077597892+19.625075057113j\n",
      "2  36.938364079874+17.891185210745j  45.873932812867+32.426063634327j  8.7351289887530+4.0309748596360j   26.959678797315-3.632529866017j -18.218495628804+31.310671932309j\n",
      "3  45.908791284326+23.571433086131j -4.5621928564720+2.1940346896320j  13.282849676561-14.155139512640j   0.861014025491+31.616677708143j   7.429400586139+46.969967010896j\n",
      "4  3.8529030244730+1.8287843157240j  35.165184565453+47.600896229660j   37.123395691276-5.557139489932j  41.203910426911-17.876861687093j   29.617636395088+2.465037142760j\n",
      "Hessenberg transformed:\n",
      "                                   0                                 1                                 2                                 3                                 4\n",
      "0  35.081102952181-14.503119257712j  -8.072655396403-61.426091845849j  28.902578733569+16.747510684688j  -22.557137121761-6.581536549785j  21.637651986345-13.149184215293j\n",
      "1 -73.622412482949+32.976978168083j  43.515057352916+37.374923651225j  -4.223518859931+37.886402751841j   47.199393435006-1.040723383687j -34.511835931391+28.752311980277j\n",
      "2  0.0000000000000+0.0000000000000j   96.700343652383+5.629734497593j  -4.995074414799+17.730449809072j -23.944172655028-20.463726412563j -4.8549792664810+1.5265153677160j\n",
      "3  0.0000000000000+0.0000000000000j  0.0000000000000+0.0000000000000j  15.776187574893+36.503893342885j  11.228472041584+14.848548124565j  20.444065961711-14.875446736728j\n",
      "4  0.0000000000000+0.0000000000000j  0.0000000000000+0.0000000000000j  0.0000000000000+0.0000000000000j   8.025251547991-15.240727609581j   12.758164977858-0.141654102836j\n",
      "Transformation matrix:\n",
      "           0                               1                               2                               3                               4\n",
      "0  1.0+0.0j  0.000000000000+0.000000000000j  0.000000000000+0.000000000000j  0.000000000000+0.000000000000j  0.000000000000+0.000000000000j\n",
      "1  0.0+0.0j -0.573684046003+0.000000000000j  0.089306345952-0.316603219919j  0.440778216931-0.026230604770j  0.521505726077-0.309405380680j\n",
      "2  0.0+0.0j -0.327224815476-0.389583414064j -0.402106754523-0.043724252806j  0.171733685462-0.556648158859j -0.238002110923+0.426089656081j\n",
      "3  0.0+0.0j -0.399923944526-0.499300621019j  0.100291590566+0.199824231560j -0.382618466742+0.110748981510j -0.320454065548-0.528600572894j\n",
      "4  0.0+0.0j -0.034321010203-0.040213128313j -0.657776023933-0.495507518686j -0.346138193281+0.432669632080j  0.105600658286+0.029014055758j\n",
      "Is the transformation similar: True\n"
     ]
    }
   ],
   "source": [
    "a = -20\n",
    "b = 50\n",
    "n = 5\n",
    "m = ut.complex_matrix(n, a, b)\n",
    "print(f\"Original matrix:\\n {pd.DataFrame(m)}\")\n",
    "h, u = hg.hessenberg_transform(m) \n",
    "print(f\"Hessenberg transformed:\\n {pd.DataFrame(h)}\")\n",
    "print(f\"Transformation matrix:\\n {pd.DataFrame(u)}\")\n",
    "print(f\"Is the transformation similar: {np.allclose(u @ h @ u.conj().T - m, np.zeros((n, n)))}\")"
   ]
  },
  {
   "cell_type": "markdown",
   "metadata": {},
   "source": [
    "## Real Matrices"
   ]
  },
  {
   "cell_type": "markdown",
   "metadata": {},
   "source": [
    "### Random Matrices"
   ]
  },
  {
   "cell_type": "code",
   "execution_count": 7,
   "metadata": {},
   "outputs": [
    {
     "name": "stdout",
     "output_type": "stream",
     "text": [
      "Original matrix:\n",
      "                  0                1                2                3                4\n",
      "0 -15.082149966568 -18.309761712307  -0.993315390544 -11.272623823717  44.228565760211\n",
      "1 -14.746541589804  33.674336676788   7.053615075260  26.505213223707  24.454029621142\n",
      "2  23.642520516414   2.660071027561  11.410001620909  -4.361025290479  20.277355838021\n",
      "3  33.184909568800  -0.968275909089   4.109998484614  -7.962732143947   0.604157091100\n",
      "4  21.974784692510  11.436502973577  29.010232280062  41.040051667315  48.421842983972\n",
      "Hessenberg transformed:\n",
      "                  0                1                2                3                4\n",
      "0 -15.082149966568  17.378682704068 -30.718935660567  31.529700257650 -13.404421192984\n",
      "1  48.585580686048  23.968300085453 -16.872178156269   0.674812256323 -12.475208453712\n",
      "2   0.000000000000 -61.022151903569  38.391086863229  22.454284937598 -24.747426275829\n",
      "3   0.000000000000   0.000000000000  19.846174313935  12.336338480745  -7.656197379370\n",
      "4   0.000000000000   0.000000000000   0.000000000000  -9.102244281396  10.847723708296\n",
      "Transformation matrix:\n",
      "      0               1               2               3               4\n",
      "0  1.0  0.000000000000  0.000000000000  0.000000000000  0.000000000000\n",
      "1  0.0 -0.303516833216 -0.485895007202 -0.721490314532  0.388889830115\n",
      "2  0.0  0.486615991464  0.011895041079 -0.569666533644 -0.662226113419\n",
      "3  0.0  0.683019716966  0.315334523700 -0.154487533460  0.640454374959\n",
      "4  0.0  0.452290255302 -0.815063609872  0.362029513282  0.006282382860\n",
      "Is the transformation similar: True\n"
     ]
    }
   ],
   "source": [
    "a = -20\n",
    "b = 50\n",
    "n = 5\n",
    "m = (b - a) * np.random.default_rng().random((n, n)) + a\n",
    "print(f\"Original matrix:\\n {pd.DataFrame(m)}\")\n",
    "h, u = hg.hessenberg_transform(m) \n",
    "print(f\"Hessenberg transformed:\\n {pd.DataFrame(h)}\")\n",
    "print(f\"Transformation matrix:\\n {pd.DataFrame(u)}\")\n",
    "print(f\"Is the transformation similar: {np.allclose(u @ h @ u.T - m, np.zeros((n, n)))}\")"
   ]
  },
  {
   "cell_type": "markdown",
   "metadata": {},
   "source": [
    "### Matrix Market"
   ]
  },
  {
   "cell_type": "code",
   "execution_count": 8,
   "metadata": {},
   "outputs": [
    {
     "name": "stdout",
     "output_type": "stream",
     "text": [
      "Is the transformation similar: True\n",
      "Is the transformation similar: True\n"
     ]
    }
   ],
   "source": [
    "files = [\"west0381\", \"blckhole\"]\n",
    "for file in files:\n",
    "\tmat = mmread(os.path.join(\"./test_matrices\", \".\".join([file, MATRIX_MARKET_FILE_EXT])))\n",
    "\tm = mat.toarray()\n",
    "\th, u = hg.hessenberg_transform(m) \n",
    "\tprint(f\"Is the transformation similar: {np.allclose(u @ h @ u.T - m, np.zeros((m.shape[0], m.shape[0])))}\")"
   ]
  },
  {
   "cell_type": "markdown",
   "metadata": {},
   "source": [
    "# QR"
   ]
  },
  {
   "cell_type": "markdown",
   "metadata": {},
   "source": [
    "## Wilkinson Shift"
   ]
  },
  {
   "cell_type": "markdown",
   "metadata": {},
   "source": [
    "### Complex Matrices"
   ]
  },
  {
   "cell_type": "code",
   "execution_count": 9,
   "metadata": {},
   "outputs": [
    {
     "name": "stdout",
     "output_type": "stream",
     "text": [
      "                 Eigenvalues (Numpy)\n",
      "0  93.838136591486+103.890445536860j\n",
      "1   60.914275787707-16.778380678501j\n",
      "2   5.8898025504440+7.0813736084130j\n",
      "3  -27.573096162295+44.759021339438j\n",
      "4  -51.414229798658+13.075931746314j\n",
      "                Eigenvalues (Script)\n",
      "0  93.838136591486+103.890445536860j\n",
      "1   60.914275787707-16.778380678501j\n",
      "2   5.8898025504440+7.0813736084130j\n",
      "3  -27.573096162295+44.759021339438j\n",
      "4  -51.414229798658+13.075931746314j\n",
      "Comparing closeness of eigenvelaues from numpy linalg and approximated eigenvalues from the script with tolerance 1e-08: True\n"
     ]
    }
   ],
   "source": [
    "a = -20\n",
    "b = 50\n",
    "n = 5\n",
    "tol = 1e-8\n",
    "m = ut.complex_matrix(n, a, b)\n",
    "qr_alg = QR(m)\n",
    "u, r = qr_alg.qr_wilkinson_shift(1e-128, 500)\n",
    "eigs = np.sort(np.linalg.eig(qr_alg.H.astype(np.complex128))[0])[::-1]\n",
    "eigs_extracted = np.sort(qr_alg.extract_eigs(r))[::-1]\n",
    "print(f\"{pd.DataFrame(eigs, columns = ['Eigenvalues (Numpy)'])}\")\n",
    "print(f\"{pd.DataFrame(eigs_extracted, columns = ['Eigenvalues (Script)'])}\")\n",
    "b, mm = ut.closeness(eigs_extracted, eigs, tol = tol)\n",
    "print(f\"Comparing closeness of eigenvelaues from numpy linalg and approximated eigenvalues from the script with tolerance {tol}: {b}\")\n",
    "if not b:\n",
    "    print(f\"Mismatched elements:\\n {mm}\")"
   ]
  },
  {
   "cell_type": "markdown",
   "metadata": {},
   "source": [
    "### Real Matrices"
   ]
  },
  {
   "cell_type": "markdown",
   "metadata": {},
   "source": [
    "#### Random Matrices"
   ]
  },
  {
   "cell_type": "code",
   "execution_count": 10,
   "metadata": {},
   "outputs": [
    {
     "name": "stdout",
     "output_type": "stream",
     "text": [
      "                Eigenvalues (Numpy)\n",
      "0  101.583953596424-0.000000000000j\n",
      "1   48.322175210398+0.000000000000j\n",
      "2   7.078982918766+19.720776445445j\n",
      "3   7.078982918766-19.720776445445j\n",
      "4  -51.050608396021-0.000000000000j\n",
      "               Eigenvalues (Script)\n",
      "0  101.583953596424+0.000000000000j\n",
      "1   48.322175210398+0.000000000000j\n",
      "2   7.078982918766+19.720776445445j\n",
      "3   7.078982918766-19.720776445445j\n",
      "4  -51.050608396021+0.000000000000j\n",
      "Comparing closeness of eigenvelaues from numpy linalg and approximated eigenvalues from the script with tolerance 1e-08: True\n"
     ]
    }
   ],
   "source": [
    "a = -20\n",
    "b = 50\n",
    "n = 5\n",
    "tol = 1e-8\n",
    "m = (b - a) * np.random.default_rng().random((n, n)) + a\n",
    "qr_alg = QR(m)\n",
    "u, r = qr_alg.qr_wilkinson_shift(1e-128, 500)\n",
    "eigs = np.sort(np.linalg.eig(qr_alg.H.astype(np.complex128))[0])[::-1]\n",
    "eigs_extracted = np.sort(qr_alg.extract_eigs(r))[::-1]\n",
    "print(f\"{pd.DataFrame(eigs, columns = ['Eigenvalues (Numpy)'])}\")\n",
    "print(f\"{pd.DataFrame(eigs_extracted, columns = ['Eigenvalues (Script)'])}\")\n",
    "b, mm = ut.closeness(eigs_extracted, eigs, tol = tol)\n",
    "print(f\"Comparing closeness of eigenvelaues from numpy linalg and approximated eigenvalues from the script with tolerance {tol}: {b}\")\n",
    "if not b:\n",
    "    print(f\"Mismatched elements:\\n {mm}\")"
   ]
  },
  {
   "cell_type": "code",
   "execution_count": 11,
   "metadata": {},
   "outputs": [
    {
     "name": "stdout",
     "output_type": "stream",
     "text": [
      "   Eigenvalues (Numpy)\n",
      "0             5.0+6.0j\n",
      "1             5.0-6.0j\n",
      "2             4.0+0.0j\n",
      "3             3.0+0.0j\n",
      "4             1.0+2.0j\n",
      "5             1.0-2.0j\n",
      "   Eigenvalues (Script)\n",
      "0              5.0+6.0j\n",
      "1              5.0-6.0j\n",
      "2              4.0+0.0j\n",
      "3              3.0+0.0j\n",
      "4              1.0+2.0j\n",
      "5              1.0-2.0j\n",
      "Comparing closeness of eigenvelaues from numpy linalg and approximated eigenvalues from the script with tolerance 1e-08: True\n"
     ]
    }
   ],
   "source": [
    "m = np.array([[7, 3, 4, -11, -9, -2],\n",
    "     [-6, 4, -5, 7, 1, 12],\n",
    "     [-1, -9, 2, 2, 9, 1],\n",
    "     [-8, 0, -1, 5, 0, 8],\n",
    "     [-4, 3, -5, 7, 2, 10],\n",
    "     [6, 1, 4, -11, -7, -1]], dtype = np.float64)\n",
    "tol = 1e-8\n",
    "qr_alg = QR(m)\n",
    "u, r = qr_alg.qr_wilkinson_shift(1e-128, 500)\n",
    "eigs = np.sort(np.linalg.eig(qr_alg.H.astype(np.complex128))[0])[::-1]\n",
    "eigs_extracted = np.sort(qr_alg.extract_eigs(r))[::-1]\n",
    "print(f\"{pd.DataFrame(eigs, columns = ['Eigenvalues (Numpy)'])}\")\n",
    "print(f\"{pd.DataFrame(eigs_extracted, columns = ['Eigenvalues (Script)'])}\")\n",
    "b, mm = ut.closeness(eigs_extracted, eigs, tol = tol)\n",
    "print(f\"Comparing closeness of eigenvelaues from numpy linalg and approximated eigenvalues from the script with tolerance {tol}: {b}\")\n",
    "if not b:\n",
    "    print(f\"Mismatched elements:\\n {mm}\")"
   ]
  },
  {
   "cell_type": "markdown",
   "metadata": {},
   "source": [
    "#### Matrix Market"
   ]
  },
  {
   "cell_type": "code",
   "execution_count": 14,
   "metadata": {},
   "outputs": [
    {
     "name": "stdout",
     "output_type": "stream",
     "text": [
      "Comparing closeness of eigenvelaues from numpy linalg and approximated eigenvalues from the script with tolerance 1e-08: False\n"
     ]
    }
   ],
   "source": [
    "files = [\"gre__115\"]\n",
    "for file in files:\n",
    "\tmat = mmread(os.path.join(\"./test_matrices\", \".\".join([file, MATRIX_MARKET_FILE_EXT])))\n",
    "\tm = mat.toarray()\n",
    "\ttol = 1e-8\n",
    "\tqr_alg = QR(m)\n",
    "\tu, r = qr_alg.qr_wilkinson_shift(1e-128, 200)\n",
    "\teigs = np.sort(np.linalg.eig(qr_alg.H)[0])[::-1]\n",
    "\teigs_extracted = np.sort(qr_alg.extract_eigs(r))[::-1]\n",
    "\tb, mm = ut.closeness(eigs_extracted, eigs, tol = tol)\n",
    "\tprint(f\"Comparing closeness of eigenvelaues from numpy linalg and approximated eigenvalues from the script with tolerance {tol}: {b}\")\n",
    "\tif not b:\n",
    "\t\twith open(\"output_mm.txt\", \"w\") as f:\n",
    "\t\t\tf.write(f\"{mm.to_string()}\")\n",
    "\t\n",
    "\t\n",
    "\t# with open(\"output_mm.txt\", \"w\") as f:\n",
    "\t# \tf.write(f\"{pd.DataFrame(np.vstack([eigs_real, eigs_extracted, eigs_real - eigs_extracted]).T, columns = ['Eigenvalues (Numpy)', 'Eigenvalues (Script)', 'Difference']).to_string()}\")"
   ]
  },
  {
   "cell_type": "markdown",
   "metadata": {},
   "source": [
    "## Double Shift"
   ]
  },
  {
   "cell_type": "code",
   "execution_count": 49,
   "metadata": {},
   "outputs": [
    {
     "ename": "ValueError",
     "evalue": "M must be square and of shape (2, 2) but given shape is (3, 3).",
     "output_type": "error",
     "traceback": [
      "\u001b[0;31m---------------------------------------------------------------------------\u001b[0m",
      "\u001b[0;31mValueError\u001b[0m                                Traceback (most recent call last)",
      "\u001b[0;32m<ipython-input-49-5d20d2e11bbf>\u001b[0m in \u001b[0;36m<module>\u001b[0;34m\u001b[0m\n\u001b[1;32m      7\u001b[0m \u001b[0;34m\u001b[0m\u001b[0m\n\u001b[1;32m      8\u001b[0m \u001b[0mqr_alg\u001b[0m \u001b[0;34m=\u001b[0m \u001b[0mQR\u001b[0m\u001b[0;34m(\u001b[0m\u001b[0mm\u001b[0m\u001b[0;34m)\u001b[0m\u001b[0;34m\u001b[0m\u001b[0;34m\u001b[0m\u001b[0m\n\u001b[0;32m----> 9\u001b[0;31m \u001b[0mu\u001b[0m\u001b[0;34m,\u001b[0m \u001b[0mr\u001b[0m \u001b[0;34m=\u001b[0m \u001b[0mqr_alg\u001b[0m\u001b[0;34m.\u001b[0m\u001b[0mdouble_shift\u001b[0m\u001b[0;34m(\u001b[0m\u001b[0;36m1e-128\u001b[0m\u001b[0;34m,\u001b[0m \u001b[0;36m500\u001b[0m\u001b[0;34m)\u001b[0m\u001b[0;34m\u001b[0m\u001b[0;34m\u001b[0m\u001b[0m\n\u001b[0m\u001b[1;32m     10\u001b[0m \u001b[0;31m# print(f\"{pd.DataFrame(r)}\")\u001b[0m\u001b[0;34m\u001b[0m\u001b[0;34m\u001b[0m\u001b[0;34m\u001b[0m\u001b[0m\n\u001b[1;32m     11\u001b[0m \u001b[0meigs\u001b[0m \u001b[0;34m=\u001b[0m \u001b[0mnp\u001b[0m\u001b[0;34m.\u001b[0m\u001b[0msort\u001b[0m\u001b[0;34m(\u001b[0m\u001b[0mnp\u001b[0m\u001b[0;34m.\u001b[0m\u001b[0mdiag\u001b[0m\u001b[0;34m(\u001b[0m\u001b[0mr\u001b[0m\u001b[0;34m)\u001b[0m\u001b[0;34m)\u001b[0m\u001b[0;34m[\u001b[0m\u001b[0;34m:\u001b[0m\u001b[0;34m:\u001b[0m\u001b[0;34m-\u001b[0m\u001b[0;36m1\u001b[0m\u001b[0;34m]\u001b[0m\u001b[0;34m\u001b[0m\u001b[0;34m\u001b[0m\u001b[0m\n",
      "\u001b[0;32m~/Documents/Heidelberg -- WS 2021/NLA/QR-Algorithm/src/qr.py\u001b[0m in \u001b[0;36mdouble_shift\u001b[0;34m(self, eps, n_iter)\u001b[0m\n\u001b[1;32m    415\u001b[0m                         \u001b[0;32mwhile\u001b[0m \u001b[0mabs\u001b[0m\u001b[0;34m(\u001b[0m\u001b[0mH\u001b[0m\u001b[0;34m[\u001b[0m\u001b[0mi\u001b[0m\u001b[0;34m,\u001b[0m \u001b[0mi\u001b[0m \u001b[0;34m-\u001b[0m \u001b[0;36m1\u001b[0m\u001b[0;34m]\u001b[0m\u001b[0;34m)\u001b[0m \u001b[0;34m>\u001b[0m \u001b[0meps\u001b[0m \u001b[0;32mand\u001b[0m \u001b[0mk\u001b[0m \u001b[0;34m<\u001b[0m \u001b[0mn_iter\u001b[0m\u001b[0;34m:\u001b[0m\u001b[0;34m\u001b[0m\u001b[0;34m\u001b[0m\u001b[0m\n\u001b[1;32m    416\u001b[0m                                 \u001b[0;31m# Get the shift.\u001b[0m\u001b[0;34m\u001b[0m\u001b[0;34m\u001b[0m\u001b[0;34m\u001b[0m\u001b[0m\n\u001b[0;32m--> 417\u001b[0;31m                                 \u001b[0mshift\u001b[0m \u001b[0;34m=\u001b[0m \u001b[0mself\u001b[0m\u001b[0;34m.\u001b[0m\u001b[0mwilkinson_shift\u001b[0m\u001b[0;34m(\u001b[0m\u001b[0mH\u001b[0m\u001b[0;34m[\u001b[0m\u001b[0mi\u001b[0m \u001b[0;34m-\u001b[0m \u001b[0;36m1\u001b[0m \u001b[0;34m:\u001b[0m \u001b[0mi\u001b[0m \u001b[0;34m+\u001b[0m \u001b[0;36m1\u001b[0m\u001b[0;34m,\u001b[0m \u001b[0mi\u001b[0m \u001b[0;34m-\u001b[0m \u001b[0;36m1\u001b[0m \u001b[0;34m:\u001b[0m \u001b[0mi\u001b[0m \u001b[0;34m+\u001b[0m \u001b[0;36m1\u001b[0m\u001b[0;34m]\u001b[0m\u001b[0;34m)\u001b[0m\u001b[0;34m\u001b[0m\u001b[0;34m\u001b[0m\u001b[0m\n\u001b[0m\u001b[1;32m    418\u001b[0m \u001b[0;34m\u001b[0m\u001b[0m\n\u001b[1;32m    419\u001b[0m                                 \u001b[0;31m# Calculate the real matrix M.\u001b[0m\u001b[0;34m\u001b[0m\u001b[0;34m\u001b[0m\u001b[0;34m\u001b[0m\u001b[0m\n",
      "\u001b[0;32m~/Documents/Heidelberg -- WS 2021/NLA/QR-Algorithm/src/qr.py\u001b[0m in \u001b[0;36mwilkinson_shift\u001b[0;34m(M)\u001b[0m\n\u001b[1;32m    313\u001b[0m \t\t\"\"\"\n\u001b[1;32m    314\u001b[0m                 \u001b[0;32mif\u001b[0m \u001b[0mM\u001b[0m\u001b[0;34m.\u001b[0m\u001b[0mshape\u001b[0m\u001b[0;34m[\u001b[0m\u001b[0;36m0\u001b[0m\u001b[0;34m]\u001b[0m \u001b[0;34m!=\u001b[0m \u001b[0;36m2\u001b[0m \u001b[0;32mor\u001b[0m \u001b[0mM\u001b[0m\u001b[0;34m.\u001b[0m\u001b[0mshape\u001b[0m\u001b[0;34m[\u001b[0m\u001b[0;36m1\u001b[0m\u001b[0;34m]\u001b[0m \u001b[0;34m!=\u001b[0m \u001b[0;36m2\u001b[0m\u001b[0;34m:\u001b[0m\u001b[0;34m\u001b[0m\u001b[0;34m\u001b[0m\u001b[0m\n\u001b[0;32m--> 315\u001b[0;31m                         \u001b[0;32mraise\u001b[0m \u001b[0mValueError\u001b[0m\u001b[0;34m(\u001b[0m\u001b[0;34mf\"M must be square and of shape (2, 2) but given shape is {M.shape}.\"\u001b[0m\u001b[0;34m)\u001b[0m\u001b[0;34m\u001b[0m\u001b[0;34m\u001b[0m\u001b[0m\n\u001b[0m\u001b[1;32m    316\u001b[0m \u001b[0;34m\u001b[0m\u001b[0m\n\u001b[1;32m    317\u001b[0m                 \u001b[0msigma\u001b[0m \u001b[0;34m=\u001b[0m \u001b[0;36m0.5\u001b[0m \u001b[0;34m*\u001b[0m \u001b[0;34m(\u001b[0m\u001b[0mM\u001b[0m\u001b[0;34m[\u001b[0m\u001b[0;36m0\u001b[0m\u001b[0;34m,\u001b[0m \u001b[0;36m0\u001b[0m\u001b[0;34m]\u001b[0m \u001b[0;34m-\u001b[0m \u001b[0mM\u001b[0m\u001b[0;34m[\u001b[0m\u001b[0;36m1\u001b[0m\u001b[0;34m,\u001b[0m \u001b[0;36m1\u001b[0m\u001b[0;34m]\u001b[0m\u001b[0;34m)\u001b[0m\u001b[0;34m\u001b[0m\u001b[0;34m\u001b[0m\u001b[0m\n",
      "\u001b[0;31mValueError\u001b[0m: M must be square and of shape (2, 2) but given shape is (3, 3)."
     ]
    }
   ],
   "source": [
    "m = np.array([[7, 3, 4, -11, -9, -2],\n",
    "     [-6, 4, -5, 7, 1, 12],\n",
    "     [-1, -9, 2, 2, 9, 1],\n",
    "     [-8, 0, -1, 5, 0, 8],\n",
    "     [-4, 3, -5, 7, 2, 10],\n",
    "     [6, 1, 4, -11, -7, -1]], dtype = np.float64)\n",
    "\n",
    "qr_alg = QR(m)\n",
    "u, r = qr_alg.double_shift(1e-128, 500)\n",
    "# print(f\"{pd.DataFrame(r)}\")\n",
    "eigs = np.sort(np.diag(r))[::-1]\n",
    "eigs_real = np.sort(np.linalg.eig(qr_alg.H)[0])[::-1]\n",
    "eigs_extracted = np.sort(qr_alg.extract_eigs(r))[::-1]\n",
    "print(f\"eigs real:\\n {pd.DataFrame(eigs_real)}\")\n",
    "print(f\"eigs approximated:\\n {pd.DataFrame(eigs_extracted)}\")"
   ]
  },
  {
   "cell_type": "code",
   "execution_count": 49,
   "metadata": {},
   "outputs": [
    {
     "data": {
      "text/plain": [
       "True"
      ]
     },
     "execution_count": 49,
     "metadata": {},
     "output_type": "execute_result"
    }
   ],
   "source": [
    "all([True, True])"
   ]
  },
  {
   "cell_type": "code",
   "execution_count": null,
   "metadata": {},
   "outputs": [],
   "source": []
  }
 ],
 "metadata": {
  "interpreter": {
   "hash": "eb47dbff9c9e2c29d46d2245b140af8eba2cc8bb4f84d6e29ba35904f7ea7f22"
  },
  "kernelspec": {
   "display_name": "Python 3.10.0 ('base-new')",
   "language": "python",
   "name": "python3"
  },
  "language_info": {
   "codemirror_mode": {
    "name": "ipython",
    "version": 3
   },
   "file_extension": ".py",
   "mimetype": "text/x-python",
   "name": "python",
   "nbconvert_exporter": "python",
   "pygments_lexer": "ipython3",
   "version": "3.8.8"
  },
  "orig_nbformat": 4
 },
 "nbformat": 4,
 "nbformat_minor": 2
}
