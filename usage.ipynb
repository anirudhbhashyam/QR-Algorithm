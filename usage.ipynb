{
 "cells": [
  {
   "cell_type": "code",
   "execution_count": 11,
   "metadata": {},
   "outputs": [
    {
     "name": "stdout",
     "output_type": "stream",
     "text": [
      "Setup compelete.\n"
     ]
    }
   ],
   "source": [
    "import os\n",
    "import sys\n",
    "\n",
    "import pandas as pd\n",
    "import numpy as np\n",
    "\n",
    "from scipy.io import mmread\n",
    "\n",
    "sys.path.append(os.path.abspath(\"./src\"))\n",
    "\n",
    "import utility as ut\n",
    "import hessenberg as hg\n",
    "from variables import *\n",
    "from qr import QR\n",
    "\n",
    "\n",
    "pd.set_option(\"display.max_columns\", 10)\n",
    "pd.set_option(\"display.width\", 1000)\n",
    "pd.set_option(\"display.precision\", 12)\n",
    "print(\"Setup compelete.\")\n"
   ]
  },
  {
   "cell_type": "markdown",
   "metadata": {},
   "source": [
    "# Hessenberg Transform"
   ]
  },
  {
   "cell_type": "markdown",
   "metadata": {},
   "source": [
    "The Hessenberg transform is a similarity transformation used to reduce a complex matrix to hessenberg form. The following implementation performs the transform using *householder vectors*. The following cells check that for a given matrix $M \\in \\mathbb{C}^{n \\times n}$,\n",
    "$$M = UHU^{*}$$\n",
    "where, H is the hessenberg form of $M$ and $U$ is a unitary matrix.\n",
    "\n",
    "The unittests present in `/tests` check for the equivalence of the eigenvalues of $M$ and $H$. "
   ]
  },
  {
   "cell_type": "markdown",
   "metadata": {},
   "source": [
    "## Complex Matrices"
   ]
  },
  {
   "cell_type": "code",
   "execution_count": 12,
   "metadata": {},
   "outputs": [
    {
     "name": "stdout",
     "output_type": "stream",
     "text": [
      "Original matrix:\n",
      "                                   0                                 1                                 2                                 3                                 4\n",
      "0 -3.6693435097640-1.5372430820320j  22.235922013353-12.666473385210j  -17.881163751703+1.384293931463j  11.139194773032+31.628818637794j  15.472832940360-17.668237507283j\n",
      "1 -0.4405688483690-3.2783275313940j  -3.311294218397+41.211961123249j  44.085903947979-14.894783295535j   8.877852556721-16.343979828743j  13.298930196966+26.853885415345j\n",
      "2  -6.103709700059-17.737630198703j  28.898985133043+13.903900376396j -13.955174460917+46.202793834763j -19.089581333807+45.632487636575j   34.677598292570-5.972704285567j\n",
      "3  10.346102112190-18.856904065871j  15.160348264421+11.535216606151j  15.269777320326-14.222073831076j   5.618504107267-11.293466770058j -13.172233772849+23.127092468693j\n",
      "4 -14.539865754130+27.243837598251j   29.988351343042+2.398561124470j  -5.224434390537+32.889937131614j  -13.837816332435+8.547148840766j   8.216514211634-13.644902918279j\n",
      "Hessenberg transformed:\n",
      "                                  0                                 1                                 2                                 3                                 4\n",
      "0  -3.669343509764-1.537243082032j  27.684030822704-21.407268519594j   18.560837623323+2.328905729465j  -4.139820724499-22.230408335252j   22.176119310098-8.651729639607j\n",
      "1  5.617878915427+41.803334903650j -10.784135656062-30.385358597958j -11.837125836367-18.861109101246j  4.8276127368180-5.6881735378540j  -5.357514319288-24.196207543243j\n",
      "2   0.000000000000+0.000000000000j -49.437102519816+53.674028619031j -13.968860611895+38.271887228688j  -6.021355568296+21.715373375873j -18.706422688779-19.650896336113j\n",
      "3   0.000000000000+0.000000000000j  0.0000000000000+0.0000000000000j  -29.084017951122-1.379550684151j  -12.092970407645+9.191837541026j  21.602304940946+10.403934464021j\n",
      "4   0.000000000000+0.000000000000j  0.0000000000000+0.0000000000000j  0.0000000000000+0.0000000000000j  23.083599582995+23.707099121376j  33.414516315189+45.398019097921j\n",
      "Transformation matrix:\n",
      "           0                               1                               2                               3                               4\n",
      "0  1.0+0.0j  0.000000000000+0.000000000000j  0.000000000000+0.000000000000j  0.000000000000+0.000000000000j  0.000000000000+0.000000000000j\n",
      "1  0.0+0.0j -0.078422631566+0.000000000000j  0.591260628883+0.027014331441j  0.600832431238-0.180227386153j  0.480862836992-0.137187449646j\n",
      "2  0.0+0.0j -0.436058114990+0.087409007400j -0.712874445149-0.037000045318j  0.275196653041+0.020615127641j  0.407084639216-0.225339572775j\n",
      "3  0.0+0.0j -0.410413575838-0.302649439708j  0.254238010787+0.236754268191j -0.630585332388+0.095899540537j  0.343256312561-0.307595488207j\n",
      "4  0.0+0.0j  0.594239963784+0.427674824475j -0.049750888489-0.130220644247j -0.270217443449+0.224740400192j  0.555607379503-0.110974179334j\n",
      "Is the transformation similar: True\n"
     ]
    }
   ],
   "source": [
    "a = -20\n",
    "b = 50\n",
    "n = 5\n",
    "m = ut.complex_matrix(n, a, b, type_ = np.complex128)\n",
    "print(f\"Original matrix:\\n {pd.DataFrame(m)}\")\n",
    "h, u = hg.hessenberg_transform(m) \n",
    "print(f\"Hessenberg transformed:\\n {pd.DataFrame(h)}\")\n",
    "print(f\"Transformation matrix:\\n {pd.DataFrame(u)}\")\n",
    "print(f\"Is the transformation similar: {np.allclose(u @ h @ u.conj().T - m, np.zeros((n, n)))}\")\n"
   ]
  },
  {
   "cell_type": "markdown",
   "metadata": {},
   "source": [
    "## Real Matrices"
   ]
  },
  {
   "cell_type": "markdown",
   "metadata": {},
   "source": [
    "### Random Matrices"
   ]
  },
  {
   "cell_type": "code",
   "execution_count": 13,
   "metadata": {},
   "outputs": [
    {
     "name": "stdout",
     "output_type": "stream",
     "text": [
      "Original matrix:\n",
      "                  0                1                2                3                4\n",
      "0  12.271191362111 -12.480520262765 -13.703492137224   5.208855239411 -14.755007338523\n",
      "1   8.824730963388  26.952984099775  46.082370266301  29.943041144175  -7.951453191968\n",
      "2  22.090775607578  48.229244050983  15.549670425950  27.890835742259  45.240811671689\n",
      "3  40.208403658728   3.331333604717  49.013330181498  -9.575113737686   3.176638926891\n",
      "4  14.528142777717  11.720556844629  45.031564922218 -10.546290720899 -16.453527860095\n",
      "Hessenberg transformed:\n",
      "                  0                1                2                3                4\n",
      "0  12.271191362111   8.539205769309  17.237609260262 -12.425389404510  -7.996748540218\n",
      "1 -48.925053917941  47.786852654230  56.871954158224   2.075067670991 -25.390744851850\n",
      "2   0.000000000000  55.255667976279  20.101414702680 -16.156929165174  23.280833853652\n",
      "3   0.000000000000   0.000000000000 -27.964600496590 -41.180322587979  12.942386411732\n",
      "4   0.000000000000   0.000000000000   0.000000000000  32.974257007463 -10.233931840988\n",
      "Transformation matrix:\n",
      "      0               1               2               3               4\n",
      "0  1.0  0.000000000000  0.000000000000  0.000000000000  0.000000000000\n",
      "1  0.0 -0.180372432051 -0.711176159617  0.289496224412 -0.614724484464\n",
      "2  0.0 -0.451522764689 -0.551965720927 -0.360233419665  0.601409111376\n",
      "3  0.0 -0.821836675462  0.424705020522 -0.179417438166 -0.334693153935\n",
      "4  0.0 -0.296946893550  0.095853839031  0.868466005259  0.385228998991\n",
      "Is the transformation similar: True\n"
     ]
    }
   ],
   "source": [
    "a = -20\n",
    "b = 50\n",
    "n = 5\n",
    "m = (b - a) * np.random.default_rng().random((n, n)) + a\n",
    "print(f\"Original matrix:\\n {pd.DataFrame(m)}\")\n",
    "h, u = hg.hessenberg_transform(m) \n",
    "print(f\"Hessenberg transformed:\\n {pd.DataFrame(h)}\")\n",
    "print(f\"Transformation matrix:\\n {pd.DataFrame(u)}\")\n",
    "print(f\"Is the transformation similar: {np.allclose(u @ h @ u.T - m, np.zeros((n, n)))}\")"
   ]
  },
  {
   "cell_type": "markdown",
   "metadata": {},
   "source": [
    "### Matrix Market"
   ]
  },
  {
   "cell_type": "code",
   "execution_count": 14,
   "metadata": {},
   "outputs": [
    {
     "name": "stdout",
     "output_type": "stream",
     "text": [
      "Is the transformation similar: True\n",
      "Is the transformation similar: True\n"
     ]
    }
   ],
   "source": [
    "files = [\"west0381\", \"blckhole\"]\n",
    "for file in files:\n",
    "\tmat = mmread(os.path.join(\"./test_matrices\", \".\".join([file, MATRIX_MARKET_FILE_EXT])))\n",
    "\tm = mat.toarray()\n",
    "\th, u = hg.hessenberg_transform(m) \n",
    "\tprint(f\"Is the transformation similar: {np.allclose(u @ h @ u.T - m, np.zeros((m.shape[0], m.shape[0])))}\")"
   ]
  },
  {
   "cell_type": "markdown",
   "metadata": {},
   "source": [
    "# QR "
   ]
  },
  {
   "cell_type": "markdown",
   "metadata": {},
   "source": [
    "For a given matrix $M \\in \\mathbb{C}^{n\\times n}$, in general, the $QR$ algorithm seeks to perform the following iteration:\n",
    "* $Q_kR_k := M_k$\n",
    "* $M_{k + 1} := R_kQ_k$\n",
    "\n",
    "This algorithm can be made more stable and efficient in two ways. The first is to use $M$ is hessenberg form and the second is use to use shifts. When $H$ (hessenberg form of $M$), is used, the $QR$ decompisition of $H$ can be procedurally generated using Givens rotation matrices, $G$ (see the documentation for explanation and generation). The generation of the QR decomposition and then the subsequent formation of $RQ$ takes place as follows\n",
    "* $R := G_1 G_2 \\dots G_k H.$\n",
    "* $Q := G_1 G_2 \\dots G_k.$\n",
    "* $H_{\\text{new}} := R G_{k}^{*} G_{k - 1}^{*} \\dots G_{1}^{*} = RQ.$\n",
    "\n",
    "where $k \\leq n - 2$.\n"
   ]
  },
  {
   "cell_type": "markdown",
   "metadata": {},
   "source": [
    "## Wilkinson Shift"
   ]
  },
  {
   "cell_type": "markdown",
   "metadata": {},
   "source": [
    "The Wilkinson shift employs stable shifts to accelerate convergence of the $QR$ hessenberg algorithm. In general the shifted algorithm looks as follows \n",
    "* $Q_kR_k := M_k - \\sigma I$\n",
    "* $M_{k + 1} := R_kQ_k + \\sigma I$\n",
    "\n",
    "The shift $\\sigma$ is calculated as detailed in the documentation. The $QR$ decomposition and subsequent formation of $RQ$ is done using the hessenberg form of $M$ and Givens matrices as shown above.\n",
    "\n",
    "(The implemented Wilkinson Shift implicitly deflates the matrix based on the last subdiagonal element.)"
   ]
  },
  {
   "cell_type": "markdown",
   "metadata": {},
   "source": [
    "### Complex Matrices"
   ]
  },
  {
   "cell_type": "code",
   "execution_count": 25,
   "metadata": {},
   "outputs": [
    {
     "name": "stdout",
     "output_type": "stream",
     "text": [
      "                  Eigenvalues (Numpy)\n",
      "0  174.383990684857+154.414461812250j\n",
      "1  84.1907537864080+14.7457440431160j\n",
      "2  65.1889207574920-70.7898042621510j\n",
      "3  28.2767378846600+38.4764613609030j\n",
      "4  13.9978793113240-10.4539226807030j\n",
      "5   0.653283914865+058.9819358696110j\n",
      "6  -3.903268084808-053.8201608587670j\n",
      "7 -43.9362476203140+75.8847968706930j\n",
      "8 -58.3426195821320-17.4377429206240j\n",
      "9 -74.4129642741100+44.0458960755510j\n",
      "                 Eigenvalues (Script)\n",
      "0  174.383990684857+154.414461812249j\n",
      "1  84.1907537864070+14.7457440431160j\n",
      "2  65.1889207574920-70.7898042621510j\n",
      "3  28.2767378846600+38.4764613609030j\n",
      "4  13.9978793113240-10.4539226807030j\n",
      "5   0.653283914866+058.9819358696110j\n",
      "6  -3.903268084808-053.8201608587680j\n",
      "7 -43.9362476203140+75.8847968706930j\n",
      "8 -58.3426193920350-17.4377429890310j\n",
      "9 -74.4129644642100+44.0458961439580j\n",
      "Comparing closeness of eigenvalues from numpy linalg and approximated eigenvalues from the script with tolerance 1e-08: False\n",
      "Mismatched elements:\n",
      "                         Real Values                  Predicted Values                      Difference\n",
      "0 -58.342619582132-17.437742920624j -58.342619392035-17.437742989031j -0.000000190097+0.000000068407j\n",
      "1 -74.412964274110+44.045896075551j -74.412964464210+44.045896143958j  0.000000190100-0.000000068407j\n",
      "Eigenvector: [-2.35312182e-01-2.33013492e-01j -5.44445694e-01-4.64843953e-01j\n",
      "  4.97841559e-01-2.33492889e-01j  8.92901717e-02-2.43970808e-01j\n",
      " -4.39539839e-02+7.06005390e-02j  3.05471063e-02-7.08302666e-03j\n",
      "  7.40253910e-03-3.54821090e-03j  2.16851401e-03+5.39506084e-04j\n",
      " -2.87459987e-06-4.09322383e-04j -2.91534730e-05+7.38230840e-05j]\n",
      "\n",
      "Eigenvector check: [ 0.11416176-0.05560889j -0.09313412-0.06855217j  0.0182879 -0.2693716j\n",
      "  0.10749264-0.02809046j -0.04976647-0.20701555j -0.16199407-0.10401155j\n",
      "  0.01937478-0.00410365j -0.05759975+0.0671698j   0.03835291-0.08134381j\n",
      " -0.01831129-0.25131225j]\n",
      "False\n"
     ]
    }
   ],
   "source": [
    "a = -20\n",
    "b = 50\n",
    "n = 10\n",
    "tol = 1e-8\n",
    "m = ut.complex_matrix(n, a, b, type_ = np.complex128)\n",
    "qr_alg = QR(m)\n",
    "u, r = qr_alg.qr_wilkinson_shift(1e-128, 500)\n",
    "eigs = np.sort(np.linalg.eig(qr_alg.H)[0])[::-1]\n",
    "eigs_extracted = np.sort(qr_alg.extract_eigs(r))[::-1]\n",
    "print(f\"{pd.DataFrame(eigs, columns = ['Eigenvalues (Numpy)'])}\")\n",
    "print(f\"{pd.DataFrame(eigs_extracted, columns = ['Eigenvalues (Script)'])}\")\n",
    "b, mm = ut.closeness(eigs_extracted, eigs, tol = tol)\n",
    "print(f\"Comparing closeness of eigenvalues from numpy linalg and approximated eigenvalues from the script with tolerance {tol}: {b}\")\n",
    "if not b:\n",
    "    print(f\"Mismatched elements:\\n {mm}\")\n",
    "\n",
    "eig_vec = u[:, 0]\n",
    "print(f\"Eigenvector: {eig_vec}\\n\")\n",
    "print(f\"Eigenvector check: {m @ eig_vec / np.diag(r)[0]}\")\n",
    "print(f\"{np.allclose(m @ eig_vec / np.diag(r)[0], eig_vec)}\")\n"
   ]
  },
  {
   "cell_type": "markdown",
   "metadata": {},
   "source": [
    "### Real Matrices"
   ]
  },
  {
   "cell_type": "markdown",
   "metadata": {},
   "source": [
    "#### Random Matrices"
   ]
  },
  {
   "cell_type": "code",
   "execution_count": 16,
   "metadata": {},
   "outputs": [
    {
     "name": "stdout",
     "output_type": "stream",
     "text": [
      "                Eigenvalues (Numpy)\n",
      "0  148.467620445883+0.000000000000j\n",
      "1   63.898063978090+0.000000000000j\n",
      "2   43.283430828923+0.000000000000j\n",
      "3   3.538794852295+12.187507775149j\n",
      "4   3.538794852295-12.187507775149j\n",
      "5 -0.7361121023890+0.0000000000000j\n",
      "6  -6.228990636740+60.152283946588j\n",
      "7  -6.228990636740-60.152283946588j\n",
      "8  -47.891860409092+9.432401763208j\n",
      "9  -47.891860409092-9.432401763208j\n",
      "               Eigenvalues (Script)\n",
      "0  148.467620445883+0.000000000000j\n",
      "1   63.898063978090+0.000000000000j\n",
      "2   43.283430828923+0.000000000000j\n",
      "3   3.538794852295+12.187507775149j\n",
      "4   3.538794852295-12.187507775149j\n",
      "5 -0.7361121023890+0.0000000000000j\n",
      "6  -6.228990636740+60.152283946588j\n",
      "7  -6.228990636740-60.152283946588j\n",
      "8  -47.891860409091+9.432401763208j\n",
      "9  -47.891860409091-9.432401763208j\n",
      "Comparing closeness of eigenvalues from numpy linalg and approximated eigenvalues from the script with tolerance 1e-08: True\n"
     ]
    }
   ],
   "source": [
    "a = -20\n",
    "b = 50\n",
    "n = 10\n",
    "tol = 1e-8\n",
    "m = (b - a) * np.random.default_rng().random((n, n)) + a\n",
    "qr_alg = QR(m)\n",
    "u, r = qr_alg.qr_wilkinson_shift(1e-128, 100)\n",
    "eigs = np.sort(np.linalg.eig(qr_alg.H)[0])[::-1]\n",
    "eigs_extracted = np.sort(qr_alg.extract_eigs(r))[::-1]\n",
    "print(f\"{pd.DataFrame(eigs, columns = ['Eigenvalues (Numpy)'])}\")\n",
    "print(f\"{pd.DataFrame(eigs_extracted, columns = ['Eigenvalues (Script)'])}\")\n",
    "b, mm = ut.closeness(eigs_extracted, eigs, tol = tol)\n",
    "print(f\"Comparing closeness of eigenvalues from numpy linalg and approximated eigenvalues from the script with tolerance {tol}: {b}\")\n",
    "if not b:\n",
    "    print(f\"Mismatched elements:\\n {mm}\")"
   ]
  },
  {
   "cell_type": "code",
   "execution_count": 17,
   "metadata": {},
   "outputs": [
    {
     "name": "stdout",
     "output_type": "stream",
     "text": [
      "   Eigenvalues (Numpy)\n",
      "0             5.0+6.0j\n",
      "1             5.0-6.0j\n",
      "2             4.0+0.0j\n",
      "3             3.0+0.0j\n",
      "4             1.0+2.0j\n",
      "5             1.0-2.0j\n",
      "   Eigenvalues (Script)\n",
      "0              5.0+6.0j\n",
      "1              5.0-6.0j\n",
      "2              4.0+0.0j\n",
      "3              3.0+0.0j\n",
      "4              1.0+2.0j\n",
      "5              1.0-2.0j\n",
      "Comparing closeness of eigenvelaues from numpy linalg and approximated eigenvalues from the script with tolerance 1e-08: True\n"
     ]
    }
   ],
   "source": [
    "m = np.array([[7, 3, 4, -11, -9, -2],\n",
    "     [-6, 4, -5, 7, 1, 12],\n",
    "     [-1, -9, 2, 2, 9, 1],\n",
    "     [-8, 0, -1, 5, 0, 8],\n",
    "     [-4, 3, -5, 7, 2, 10],\n",
    "     [6, 1, 4, -11, -7, -1]], dtype = np.float64)\n",
    "tol = 1e-8\n",
    "qr_alg = QR(m)\n",
    "u, r = qr_alg.qr_wilkinson_shift(1e-128, 100)\n",
    "eigs = np.sort(np.linalg.eig(qr_alg.H.astype(np.complex128))[0])[::-1]\n",
    "eigs_extracted = np.sort(qr_alg.extract_eigs(r))[::-1]\n",
    "print(f\"{pd.DataFrame(eigs, columns = ['Eigenvalues (Numpy)'])}\")\n",
    "print(f\"{pd.DataFrame(eigs_extracted, columns = ['Eigenvalues (Script)'])}\")\n",
    "b, mm = ut.closeness(eigs_extracted, eigs, tol = tol)\n",
    "print(f\"Comparing closeness of eigenvelaues from numpy linalg and approximated eigenvalues from the script with tolerance {tol}: {b}\")\n",
    "if not b:\n",
    "    print(f\"Mismatched elements:\\n {mm}\")"
   ]
  },
  {
   "cell_type": "markdown",
   "metadata": {},
   "source": [
    "#### Matrix Market"
   ]
  },
  {
   "cell_type": "code",
   "execution_count": 10,
   "metadata": {},
   "outputs": [
    {
     "name": "stdout",
     "output_type": "stream",
     "text": [
      "Comparing closeness of eigenvelaues from numpy linalg and approximated eigenvalues from the script with tolerance 1e-08: False\n",
      "For matrix utm300\n",
      "Number of mismatched eigenvalues: 5\n",
      "Average absolute difference in mismatched values (3.527668608616086e-14+0j)\n"
     ]
    }
   ],
   "source": [
    "files = [\"utm300\"]\n",
    "for file in files:\n",
    "\tmat = mmread(os.path.join(\"./test_matrices\", \".\".join([file, MATRIX_MARKET_FILE_EXT])))\n",
    "\tm = mat.toarray()\n",
    "\ttol = 1e-8\n",
    "\tqr_alg = QR(m)\n",
    "\tu, r = qr_alg.qr_wilkinson_shift(1e-128, 500)\n",
    "\teigs = np.sort(np.linalg.eig(qr_alg.H)[0])[::-1]\n",
    "\teigs_extracted = np.sort(qr_alg.extract_eigs(r))[::-1]\n",
    "\tb, mm = ut.closeness(eigs_extracted, eigs, tol = tol)\n",
    "\tprint(f\"Comparing closeness of eigenvelaues from numpy linalg and approximated eigenvalues from the script with tolerance {tol}: {b}\")\n",
    "\tif not b:\n",
    "\t\tprint(f\"For matrix {file}\")\n",
    "\t\tprint(f\"Number of mismatched eigenvalues: {mm.shape[0]}\")\n",
    "\t\tprint(f\"Average absolute difference in mismatched values {mm['Difference'].mean()}\")\n",
    "\t\t# with open(\"output_mm.txt\", \"w\") as f:\n",
    "\t\t# \tf.write(f\"{mm.to_string()}\")\n",
    "   \n"
   ]
  },
  {
   "cell_type": "markdown",
   "metadata": {},
   "source": [
    "## Double Shift (Inefficient)\n",
    "For real matrices that have complex eigenvalues (that come in complex conjugate pairs) the shift as explained before can be collapsed into one step (explained in the documentation)."
   ]
  },
  {
   "cell_type": "markdown",
   "metadata": {},
   "source": [
    "### Random Matrices"
   ]
  },
  {
   "cell_type": "code",
   "execution_count": 18,
   "metadata": {},
   "outputs": [
    {
     "name": "stdout",
     "output_type": "stream",
     "text": [
      "   Eigenvalues (Numpy)\n",
      "0             5.0+6.0j\n",
      "1             5.0-6.0j\n",
      "2             4.0+0.0j\n",
      "3             3.0+0.0j\n",
      "4             1.0+2.0j\n",
      "5             1.0-2.0j\n",
      "   Eigenvalues (Script)\n",
      "0              5.0+6.0j\n",
      "1              5.0-6.0j\n",
      "2              4.0+0.0j\n",
      "3              3.0+0.0j\n",
      "4              1.0+2.0j\n",
      "5              1.0-2.0j\n",
      "Comparing closeness of eigenvelaues from numpy linalg and approximated eigenvalues from the script with tolerance 1e-08: True\n"
     ]
    }
   ],
   "source": [
    "m = np.array([[7, 3, 4, -11, -9, -2],\n",
    "     [-6, 4, -5, 7, 1, 12],\n",
    "     [-1, -9, 2, 2, 9, 1],\n",
    "     [-8, 0, -1, 5, 0, 8],\n",
    "     [-4, 3, -5, 7, 2, 10],\n",
    "     [6, 1, 4, -11, -7, -1]], dtype = np.float64)\n",
    "\n",
    "tol = 1e-8\n",
    "qr_alg = QR(m)\n",
    "u, r = qr_alg.double_shift(1e-128, 200)\n",
    "eigs = np.sort(np.linalg.eig(m)[0])[::-1]\n",
    "eigs_extracted = np.sort(qr_alg.extract_eigs(r))[::-1]\n",
    "print(f\"{pd.DataFrame(eigs, columns = ['Eigenvalues (Numpy)'])}\")\n",
    "print(f\"{pd.DataFrame(eigs_extracted, columns = ['Eigenvalues (Script)'])}\")\n",
    "b, mm = ut.closeness(eigs_extracted, eigs, tol = tol)\n",
    "print(f\"Comparing closeness of eigenvelaues from numpy linalg and approximated eigenvalues from the script with tolerance {tol}: {b}\")\n",
    "if not b:\n",
    "    print(f\"Mismatched elements:\\n {mm}\")"
   ]
  },
  {
   "cell_type": "code",
   "execution_count": 19,
   "metadata": {},
   "outputs": [
    {
     "name": "stdout",
     "output_type": "stream",
     "text": [
      "                Eigenvalues (Numpy)\n",
      "0  177.591096351041+0.000000000000j\n",
      "1  42.089351019031+30.965758119701j\n",
      "2  42.089351019031-30.965758119701j\n",
      "3   4.755131194994+57.273881100944j\n",
      "4   4.755131194994-57.273881100944j\n",
      "5  0.9373346187140+2.6483777631340j\n",
      "6  0.9373346187140-2.6483777631340j\n",
      "7 -13.805420767330+35.287097409231j\n",
      "8 -13.805420767330-35.287097409231j\n",
      "9  -45.604222247381+0.000000000000j\n",
      "               Eigenvalues (Script)\n",
      "0  177.591096351004+0.000000000000j\n",
      "1  42.089351019031+30.965758119700j\n",
      "2  42.089351019031-30.965758119700j\n",
      "3   4.755131194994+57.273881100945j\n",
      "4   4.755131194994-57.273881100945j\n",
      "5  0.9373346187140+2.6483777631340j\n",
      "6  0.9373346187140-2.6483777631340j\n",
      "7 -13.805420767330+35.287097409231j\n",
      "8 -13.805420767330-35.287097409231j\n",
      "9  -45.604222247382+0.000000000000j\n",
      "Comparing closeness of eigenvelaues from numpy linalg and approximated eigenvalues from the script with tolerance 1e-08: True\n"
     ]
    }
   ],
   "source": [
    "a = -20\n",
    "b = 50\n",
    "n = 10\n",
    "tol = 1e-8\n",
    "m = (b - a) * np.random.default_rng().random((n, n)) + a\n",
    "qr_alg = QR(m)\n",
    "u, r = qr_alg.double_shift(1e-256, 500)\n",
    "eigs = np.sort(np.linalg.eig(qr_alg.H)[0])[::-1]\n",
    "eigs_extracted = np.sort(qr_alg.extract_eigs(r))[::-1]\n",
    "print(f\"{pd.DataFrame(eigs, columns = ['Eigenvalues (Numpy)'])}\")\n",
    "print(f\"{pd.DataFrame(eigs_extracted, columns = ['Eigenvalues (Script)'])}\")\n",
    "b, mm = ut.closeness(eigs_extracted, eigs, tol = tol)\n",
    "print(f\"Comparing closeness of eigenvelaues from numpy linalg and approximated eigenvalues from the script with tolerance {tol}: {b}\")\n",
    "if not b:\n",
    "    print(f\"Mismatched elements:\\n {mm}\")"
   ]
  },
  {
   "cell_type": "markdown",
   "metadata": {},
   "source": [
    "### Matrix Market"
   ]
  },
  {
   "cell_type": "code",
   "execution_count": 19,
   "metadata": {},
   "outputs": [
    {
     "name": "stdout",
     "output_type": "stream",
     "text": [
      "Comparing closeness of eigenvelaues from numpy linalg and approximated eigenvalues from the script with tolerance 1e-08: False\n",
      "For matrix gre__115\n",
      "Number of mismatched eigenvalues: 7\n",
      "Average absolute difference in mismatched values (-3.114175584073564e-13+0j)\n"
     ]
    }
   ],
   "source": [
    "files = [\"gre__115\"]\n",
    "for file in files:\n",
    "\tmat = mmread(os.path.join(\"./test_matrices\", \".\".join([file, MATRIX_MARKET_FILE_EXT])))\n",
    "\tm = mat.toarray()\n",
    "\ttol = 1e-8\n",
    "\tqr_alg = QR(m)\n",
    "\tu, r = qr_alg.double_shift(1e-128, 800)\n",
    "\teigs = np.sort(np.linalg.eig(qr_alg.H)[0])[::-1]\n",
    "\teigs_extracted = np.sort(qr_alg.extract_eigs(r))[::-1]\n",
    "\tb, mm = ut.closeness(eigs_extracted, eigs, tol = tol)\n",
    "\tprint(f\"Comparing closeness of eigenvelaues from numpy linalg and approximated eigenvalues from the script with tolerance {tol}: {b}\")\n",
    "\tif not b:\n",
    "\t\tprint(f\"For matrix {file}\")\n",
    "\t\tprint(f\"Number of mismatched eigenvalues: {mm.shape[0]}\")\n",
    "\t\tprint(f\"Average absolute difference in mismatched values {mm['Difference'].mean()}\")\n",
    "\t\t# with open(\"output_mm.txt\", \"w\") as f:\n",
    "\t\t# \tf.write(f\"{mm.to_string()}\")\n",
    "   "
   ]
  },
  {
   "cell_type": "markdown",
   "metadata": {},
   "source": [
    "# Convergence"
   ]
  },
  {
   "cell_type": "markdown",
   "metadata": {},
   "source": [
    "## Wilkinson Shift\n",
    "\n",
    "The Wilkinson Shift (infact the shifted $QR$ algorithm in general) should converge quadratically. The alogorithm relies on the fact that the last subdiagonal element $h_{k - 1, k - 2}$ converges to 0, where $k$ is the 'active' size of the hessenberg matrix H. We expect that \n",
    "$$\\frac{h^{i + 1}_{k - 1, k - 2}}{h^{i}_{k - 1, k - 2}} \\approx \\frac{(h^{i}_{k - 1, k - 2})^2}{h^{i}_{k - 1, k - 2}} \\approx \\;\\text{constant}\\; (< 1) $$\n",
    "as $i \\rightarrow \\infty$. "
   ]
  },
  {
   "cell_type": "code",
   "execution_count": 23,
   "metadata": {},
   "outputs": [
    {
     "name": "stdout",
     "output_type": "stream",
     "text": [
      "Convergence for the Wilkinson shift.\n",
      "Query matrix\n",
      "                 0               1               2               3               4\n",
      "0  0.605500645049  0.271424246316  0.435880084073  0.366568710688  0.463194467339\n",
      "1  0.577270277209  0.630928787103  0.027716279206  0.877458635775  0.679894340095\n",
      "2  0.411904154476  0.483223736835  0.923489832258  0.851682205122  0.924738361524\n",
      "3  0.699008801759  0.539781237380  0.673609340057  0.489838334297  0.729817549227\n",
      "4  0.260063839876  0.902306693028  0.058067143053  0.383065524220  0.404076052676\n",
      "Above matrix is converted to hessenberg form when QR(m) is initialised.\n",
      "Hessenberg form of the matrix                 0               1               2               3               4\n",
      "0  0.605500645049 -0.692726925974 -0.308132511435  0.018639388359  0.193444147074\n",
      "1 -1.029151354841  2.182183194122  0.454167503722 -0.381996544374 -0.582754566555\n",
      "2  0.000000000000  0.783572573302  0.179620655441 -0.080726224705 -0.138233574079\n",
      "3  0.000000000000  0.000000000000  0.651899607756  0.405015469633  0.004076300527\n",
      "4  0.000000000000  0.000000000000  0.000000000000  0.356447072747 -0.318486312862.\n",
      "Performing 100 iterations.\n",
      "Starting...\n",
      "\n",
      "Ratio (as explained above): 0.12152974741950431\n",
      "                0               1\n",
      "0  0.010764761504             NaN\n",
      "1  0.001407823519  0.130780744090\n",
      "2  0.000186120393  0.132204350030\n",
      "3  0.000023342028  0.125413596896\n",
      "4  0.000002861840  0.122604611210\n",
      "5  0.000000348157  0.121654932915\n",
      "6  0.000000042255  0.121366608607\n",
      "7  0.000000005125  0.121286882912\n",
      "8  0.000000000621  0.121267028317\n",
      "9  0.000000000075  0.121262783894\n"
     ]
    }
   ],
   "source": [
    "m = np.random.default_rng().random((5, 5))\n",
    "\n",
    "tol = 1e-8\n",
    "qr_alg = QR(m)\n",
    "\n",
    "r = qr_alg.H.copy()\n",
    "n = r.shape[0]\n",
    "iter_ = 100\n",
    "subdiagonal_elements = list()\n",
    "\n",
    "print(\"Convergence for the Wilkinson shift.\")\n",
    "print(f\"Query matrix\\n {pd.DataFrame(m)}\")\n",
    "print(f\"Above matrix is converted to hessenberg form when QR(m) is initialised.\")\n",
    "print(f\"Hessenberg form of the matrix {pd.DataFrame(qr_alg.H)}.\")\n",
    "print(f\"Performing {iter_} iterations.\")\n",
    "print(f\"Starting...\\n\")\n",
    "\n",
    "for i in range(iter_):\n",
    "\t# sigma_k = qr_alg.wilkinson_shift(r[n - 2 :, n - 2 :])\t\t\n",
    "\t# Generate a scaled identity matrix for use in the shifts.\n",
    "\tshift_mat = qr_alg.H[n - 1, n - 1] * np.eye(n, dtype = r.dtype)\n",
    " \n",
    "\tr -= shift_mat\n",
    "\t# Perform a step of the QR \n",
    "\t# hessenberg method.\n",
    "\tq, r = qr_alg.qr_hessenberg(r)\n",
    "\tr += shift_mat\n",
    "\t# print(f\"Submatrix \\n {pd.DataFrame(r[n - 2 :, n - 2 :])}\\n\")\n",
    "\tsubdiagonal_elements.append([abs(r[n - 1, n - 2])])\n",
    " \n",
    "for i in range(1, len(subdiagonal_elements)):\n",
    "    subdiagonal_elements[i].append(subdiagonal_elements[i][0] / subdiagonal_elements[i - 1][0])\n",
    "    \n",
    "print(f\"Ratio (as explained above): {np.mean(np.array(subdiagonal_elements[1:], dtype = np.float64), axis = 0)[1]}\")\n",
    "print(pd.DataFrame(subdiagonal_elements[:10]))\t"
   ]
  },
  {
   "cell_type": "code",
   "execution_count": null,
   "metadata": {},
   "outputs": [],
   "source": []
  }
 ],
 "metadata": {
  "interpreter": {
   "hash": "eb47dbff9c9e2c29d46d2245b140af8eba2cc8bb4f84d6e29ba35904f7ea7f22"
  },
  "kernelspec": {
   "display_name": "Python 3.10.0 ('base-new')",
   "language": "python",
   "name": "python3"
  },
  "language_info": {
   "codemirror_mode": {
    "name": "ipython",
    "version": 3
   },
   "file_extension": ".py",
   "mimetype": "text/x-python",
   "name": "python",
   "nbconvert_exporter": "python",
   "pygments_lexer": "ipython3",
   "version": "3.8.8"
  },
  "orig_nbformat": 4
 },
 "nbformat": 4,
 "nbformat_minor": 2
}
