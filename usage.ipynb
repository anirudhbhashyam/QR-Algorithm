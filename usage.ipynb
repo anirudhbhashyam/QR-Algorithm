{
 "cells": [
  {
   "cell_type": "code",
   "execution_count": 1,
   "metadata": {},
   "outputs": [
    {
     "name": "stdout",
     "output_type": "stream",
     "text": [
      "Setup compelete.\n"
     ]
    }
   ],
   "source": [
    "import os\n",
    "import sys\n",
    "import importlib\n",
    "\n",
    "import pandas as pd\n",
    "import numpy as np\n",
    "\n",
    "from scipy.io import mmread\n",
    "\n",
    "sys.path.append(os.path.abspath(\"./src\"))\n",
    "\n",
    "import utility as ut\n",
    "import hessenberg as hg\n",
    "from variables import *\n",
    "from qr import QR\n",
    "\n",
    "\n",
    "pd.set_option(\"display.max_columns\", 10)\n",
    "pd.set_option(\"display.width\", 1000)\n",
    "\n",
    "print(\"Setup compelete.\")\n"
   ]
  },
  {
   "cell_type": "markdown",
   "metadata": {},
   "source": [
    "# Hessenberg Transform"
   ]
  },
  {
   "cell_type": "markdown",
   "metadata": {},
   "source": [
    "## Complex Matrices"
   ]
  },
  {
   "cell_type": "code",
   "execution_count": 2,
   "metadata": {},
   "outputs": [
    {
     "name": "stdout",
     "output_type": "stream",
     "text": [
      "Original matrix:\n",
      "                       0                     1                     2                     3                     4\n",
      "0  -4.804923+23.730160j -16.359371+26.383236j  46.926128+26.718261j  -1.867321+49.754256j   5.114251+11.338629j\n",
      "1   33.838611+0.862580j  12.626639+39.500811j  9.9135270+3.8399050j   3.431236-19.644613j  39.449039+42.764978j\n",
      "2  41.628379-16.588279j   2.076414+12.034994j   2.040094+17.755369j -15.512318-15.657989j  -11.083593+2.843183j\n",
      "3 -11.208934+34.592834j   2.503769-12.729379j -19.482661-13.254690j  10.762023-11.747013j  21.511528+34.422293j\n",
      "4  44.704343-14.674559j  10.878339+10.881410j  10.786717-14.806481j  43.693147+42.332062j  40.518210+46.571637j\n",
      "Hessenberg transformed:\n",
      "                      0                     1                     2                     3                     4\n",
      "0 -4.804923+23.730160j  -6.614516-12.330768j -41.523079+31.746777j  -22.771283-5.375003j -43.767095+33.504028j\n",
      "1 -81.765944-2.084296j  28.811811+33.450940j  24.279457-26.581116j -15.469843+17.008869j  -1.279517-12.103656j\n",
      "2   0.000000+0.000000j  -55.108831-0.496388j   9.526077+13.994307j  25.362560-24.794490j   42.016844-5.957017j\n",
      "3   0.000000+0.000000j  0.0000000+0.0000000j -27.016484+30.975431j  23.623682+21.875759j -48.680049+18.649665j\n",
      "4   0.000000+0.000000j  0.0000000+0.0000000j  0.0000000+0.0000000j  16.493910-29.253848j   3.985396+22.759798j\n",
      "Transformation matrix:\n",
      "           0                   1                   2                   3                   4\n",
      "0  1.0+0.0j  0.000000+0.000000j  0.000000+0.000000j  0.000000+0.000000j  0.000000+0.000000j\n",
      "1  0.0+0.0j -0.413847+0.000000j  0.669524+0.389314j  0.202579+0.227247j -0.254448-0.267356j\n",
      "2  0.0+0.0j -0.503618+0.215713j -0.232519+0.036525j -0.410068+0.388807j -0.252979+0.510992j\n",
      "3  0.0+0.0j  0.126219-0.426289j  0.512798+0.081797j -0.265334-0.140750j  0.318779+0.583833j\n",
      "4  0.0+0.0j -0.541809+0.193282j -0.141996+0.234430j  0.187518-0.680160j  0.288475+0.113872j\n",
      "Is the transformation similar: True\n"
     ]
    }
   ],
   "source": [
    "a = -20\n",
    "b = 50\n",
    "n = 5\n",
    "m = ut.complex_matrix(n, a, b)\n",
    "print(f\"Original matrix:\\n {pd.DataFrame(m)}\")\n",
    "h, u = hg.hessenberg_transform(m) \n",
    "print(f\"Hessenberg transformed:\\n {pd.DataFrame(h)}\")\n",
    "print(f\"Transformation matrix:\\n {pd.DataFrame(u)}\")\n",
    "print(f\"Is the transformation similar: {np.allclose(u @ h @ u.conj().T - m, np.zeros((n, n)))}\")"
   ]
  },
  {
   "cell_type": "markdown",
   "metadata": {},
   "source": [
    "## Real Matrices"
   ]
  },
  {
   "cell_type": "markdown",
   "metadata": {},
   "source": [
    "### Random Matrices"
   ]
  },
  {
   "cell_type": "code",
   "execution_count": 3,
   "metadata": {},
   "outputs": [
    {
     "name": "stdout",
     "output_type": "stream",
     "text": [
      "Original matrix:\n",
      "            0          1          2          3          4\n",
      "0  26.248482  26.035779  12.983198  36.592658  14.641317\n",
      "1  28.080119  49.682225  17.964609  38.623893  25.893820\n",
      "2 -13.639360  15.901645  48.963673  -4.781431  13.309064\n",
      "3  34.349359 -18.450561  33.758003  12.629556 -13.537496\n",
      "4  -3.270996  32.452370  40.302688 -13.609501  -1.622084\n",
      "Hessenberg transformed:\n",
      "            0          1          2          3          4\n",
      "0  26.248482 -37.890019   4.059151 -24.649395 -18.441612\n",
      "1 -46.530668  25.939384 -15.871055  12.113619  24.290271\n",
      "2   0.000000  46.640610  23.838191  31.696676  -5.029004\n",
      "3   0.000000   0.000000  33.152324  24.018651  57.396180\n",
      "4   0.000000   0.000000   0.000000  28.295707  35.857144\n",
      "Transformation matrix:\n",
      "      0         1         2         3         4\n",
      "0  1.0  0.000000  0.000000  0.000000  0.000000\n",
      "1  0.0 -0.603476 -0.766597 -0.115069 -0.186830\n",
      "2  0.0  0.293126  0.034692 -0.290635 -0.910167\n",
      "3  0.0 -0.738209  0.641149 -0.111172 -0.177808\n",
      "4  0.0  0.070298  0.007262 -0.943362  0.324152\n",
      "Is the transformation similar: True\n"
     ]
    }
   ],
   "source": [
    "a = -20\n",
    "b = 50\n",
    "n = 5\n",
    "m = (b - a) * np.random.default_rng().random((n, n)) + a\n",
    "print(f\"Original matrix:\\n {pd.DataFrame(m)}\")\n",
    "h, u = hg.hessenberg_transform(m) \n",
    "print(f\"Hessenberg transformed:\\n {pd.DataFrame(h)}\")\n",
    "print(f\"Transformation matrix:\\n {pd.DataFrame(u)}\")\n",
    "print(f\"Is the transformation similar: {np.allclose(u @ h @ u.T - m, np.zeros((n, n)))}\")"
   ]
  },
  {
   "cell_type": "markdown",
   "metadata": {},
   "source": [
    "### Matrix Market"
   ]
  },
  {
   "cell_type": "code",
   "execution_count": 4,
   "metadata": {},
   "outputs": [
    {
     "name": "stdout",
     "output_type": "stream",
     "text": [
      "Is the transformation similar: True\n",
      "Is the transformation similar: True\n"
     ]
    }
   ],
   "source": [
    "files = [\"west0381\", \"blckhole\"]\n",
    "for file in files:\n",
    "\tmat = mmread(os.path.join(\"./test_matrices\", \".\".join([file, MATRIX_MARKET_FILE_EXT])))\n",
    "\tm = mat.toarray()\n",
    "\th, u = hg.hessenberg_transform(m) \n",
    "\tprint(f\"Is the transformation similar: {np.allclose(u @ h @ u.T - m, np.zeros((m.shape[0], m.shape[0])))}\")"
   ]
  },
  {
   "cell_type": "markdown",
   "metadata": {},
   "source": [
    "# QR"
   ]
  },
  {
   "cell_type": "markdown",
   "metadata": {},
   "source": [
    "## Wilkinson Shift"
   ]
  },
  {
   "cell_type": "markdown",
   "metadata": {},
   "source": [
    "### Complex Matrices"
   ]
  },
  {
   "cell_type": "code",
   "execution_count": 27,
   "metadata": {},
   "outputs": [
    {
     "name": "stdout",
     "output_type": "stream",
     "text": [
      "     Eigenvalues (Numpy)\n",
      "0  56.209983+100.299996j\n",
      "1  36.2441470+8.0821680j\n",
      "2   32.049115-39.880043j\n",
      "3 -0.929528+046.0506460j\n",
      "4  -30.748723-10.187563j\n",
      "    Eigenvalues (Script)\n",
      "0  56.209983+100.299996j\n",
      "1  36.2441470+8.0821680j\n",
      "2   32.049115-39.880043j\n",
      "3 -0.929528+046.0506460j\n",
      "4  -30.748723-10.187563j\n",
      "Comparing closeness of eigenvelaues from numpy linalg and approximated eigenvalues from the script with tolerance 1e-08: True\n"
     ]
    }
   ],
   "source": [
    "a = -20\n",
    "b = 50\n",
    "n = 5\n",
    "atol = 1e-8\n",
    "m = ut.complex_matrix(n, a, b)\n",
    "qr_alg = QR(m)\n",
    "u, r = qr_alg.qr_wilkinson_shift(1e-128, 500)\n",
    "eigs = np.sort(np.linalg.eig(qr_alg.H.astype(np.complex128))[0])[::-1]\n",
    "eigs_extracted = np.sort(qr_alg.extract_eigs(r))[::-1]\n",
    "print(f\"{pd.DataFrame(eigs, columns = ['Eigenvalues (Numpy)'])}\")\n",
    "print(f\"{pd.DataFrame(eigs_extracted, columns = ['Eigenvalues (Script)'])}\")\n",
    "print(f\"Comparing closeness of eigenvelaues from numpy linalg and approximated eigenvalues from the script with tolerance {atol}: {np.allclose(eigs_extracted, eigs, rtol = 0, atol = atol)}\")"
   ]
  },
  {
   "cell_type": "markdown",
   "metadata": {},
   "source": [
    "### Real Matrices"
   ]
  },
  {
   "cell_type": "markdown",
   "metadata": {},
   "source": [
    "#### Random Matrices"
   ]
  },
  {
   "cell_type": "code",
   "execution_count": 28,
   "metadata": {},
   "outputs": [
    {
     "name": "stdout",
     "output_type": "stream",
     "text": [
      "    Eigenvalues (Numpy)\n",
      "0   69.190598-0.000000j\n",
      "1   3.283694+14.869563j\n",
      "2   3.283694-14.869563j\n",
      "3 -31.836209+23.733588j\n",
      "4 -31.836209-23.733588j\n",
      "   Eigenvalues (Script)\n",
      "0   69.190598+0.000000j\n",
      "1   3.283694+14.869563j\n",
      "2   3.283694-14.869563j\n",
      "3 -31.836209+23.733588j\n",
      "4 -31.836209-23.733588j\n",
      "Comparing closeness of eigenvelaues from numpy linalg and approximated eigenvalues from the script with tolerance 1e-08: True\n"
     ]
    }
   ],
   "source": [
    "a = -20\n",
    "b = 50\n",
    "n = 5\n",
    "atol = 1e-8\n",
    "m = (b - a) * np.random.default_rng().random((n, n)) + a\n",
    "qr_alg = QR(m)\n",
    "u, r = qr_alg.qr_wilkinson_shift(1e-128, 500)\n",
    "eigs = np.sort(np.linalg.eig(qr_alg.H.astype(np.complex128))[0])[::-1]\n",
    "eigs_extracted = np.sort(qr_alg.extract_eigs(r))[::-1]\n",
    "print(f\"{pd.DataFrame(eigs, columns = ['Eigenvalues (Numpy)'])}\")\n",
    "print(f\"{pd.DataFrame(eigs_extracted, columns = ['Eigenvalues (Script)'])}\")\n",
    "print(f\"Comparing closeness of eigenvelaues from numpy linalg and approximated eigenvalues from the script with tolerance {atol}: {np.allclose(eigs_extracted, eigs, rtol = 0, atol = atol)}\")"
   ]
  },
  {
   "cell_type": "code",
   "execution_count": 29,
   "metadata": {},
   "outputs": [
    {
     "name": "stdout",
     "output_type": "stream",
     "text": [
      "   Eigenvalues (Numpy)\n",
      "0             5.0+6.0j\n",
      "1             5.0-6.0j\n",
      "2             4.0+0.0j\n",
      "3             3.0+0.0j\n",
      "4             1.0+2.0j\n",
      "5             1.0-2.0j\n",
      "   Eigenvalues (Script)\n",
      "0              5.0+6.0j\n",
      "1              5.0-6.0j\n",
      "2              4.0+0.0j\n",
      "3              3.0+0.0j\n",
      "4              1.0+2.0j\n",
      "5              1.0-2.0j\n",
      "Comparing closeness of eigenvelaues from numpy linalg and approximated eigenvalues from the script with tolerance 1e-08: True\n"
     ]
    }
   ],
   "source": [
    "m = np.array([[7, 3, 4, -11, -9, -2],\n",
    "     [-6, 4, -5, 7, 1, 12],\n",
    "     [-1, -9, 2, 2, 9, 1],\n",
    "     [-8, 0, -1, 5, 0, 8],\n",
    "     [-4, 3, -5, 7, 2, 10],\n",
    "     [6, 1, 4, -11, -7, -1]], dtype = np.float64)\n",
    "atol = 1e-8\n",
    "qr_alg = QR(m)\n",
    "u, r = qr_alg.qr_wilkinson_shift(1e-128, 500)\n",
    "eigs = np.sort(np.linalg.eig(qr_alg.H.astype(np.complex128))[0])[::-1]\n",
    "eigs_extracted = np.sort(qr_alg.extract_eigs(r))[::-1]\n",
    "print(f\"{pd.DataFrame(eigs, columns = ['Eigenvalues (Numpy)'])}\")\n",
    "print(f\"{pd.DataFrame(eigs_extracted, columns = ['Eigenvalues (Script)'])}\")\n",
    "print(f\"Comparing closeness of eigenvelaues from numpy linalg and approximated eigenvalues from the script with tolerance {atol}: {np.allclose(eigs_extracted, eigs, rtol = 0, atol = atol)}\")"
   ]
  },
  {
   "cell_type": "markdown",
   "metadata": {},
   "source": [
    "#### Matrix Market"
   ]
  },
  {
   "cell_type": "code",
   "execution_count": 42,
   "metadata": {},
   "outputs": [
    {
     "name": "stdout",
     "output_type": "stream",
     "text": [
      "Comparing closeness of eigenvelaues from numpy linalg and approximated eigenvalues from the script with tolerance 1e-08: False\n"
     ]
    }
   ],
   "source": [
    "files = [\"gre__115\"]\n",
    "for file in files:\n",
    "\tmat = mmread(os.path.join(\"./test_matrices\", \".\".join([file, MATRIX_MARKET_FILE_EXT])))\n",
    "\tm = mat.toarray()\n",
    "\tatol = 1e-6\n",
    "\tqr_alg = QR(m)\n",
    "\tu, r = qr_alg.qr_wilkinson_shift(1e-64, 100)\n",
    "\teigs = np.sort(np.linalg.eig(qr_alg.H)[0])[::-1]\n",
    "\teigs_extracted = np.sort(qr_alg.extract_eigs(r))[::-1]\n",
    "\t# print(f\"eigs real:\\n {pd.DataFrame(eigs_real)}\")\n",
    "\t# print(f\"eigs approximated:\\n {pd.DataFrame(eigs_extracted)}\")\n",
    "\tprint(f\"Comparing closeness of eigenvelaues from numpy linalg and approximated eigenvalues from the script with tolerance {atol}: {np.allclose(eigs_extracted, eigs, rtol = 0, atol = atol)}\")\n",
    "\tmismatched_elements = ~np.isclose(eigs_extracted, eigs, rtol = 0, atol = atol)\n",
    "\t\n",
    "\twith open(\"output_mm.txt\", \"w\") as f:\n",
    "\t\tf.write(f\"{pd.DataFrame(np.vstack([eigs_real[mismatched_elements], eigs[mismatched_elements]]).T, columns = ['Eigenvalues (Numpy)', 'Eigenvalues (Script)']).to_string()}\")\n",
    "\t# with open(\"output_mm.txt\", \"w\") as f:\n",
    "\t# \tf.write(f\"{pd.DataFrame(np.vstack([eigs_real, eigs_extracted, eigs_real - eigs_extracted]).T, columns = ['Eigenvalues (Numpy)', 'Eigenvalues (Script)', 'Difference']).to_string()}\")"
   ]
  },
  {
   "cell_type": "markdown",
   "metadata": {},
   "source": [
    "## Double Shift"
   ]
  },
  {
   "cell_type": "code",
   "execution_count": 49,
   "metadata": {},
   "outputs": [
    {
     "ename": "ValueError",
     "evalue": "M must be square and of shape (2, 2) but given shape is (3, 3).",
     "output_type": "error",
     "traceback": [
      "\u001b[0;31m---------------------------------------------------------------------------\u001b[0m",
      "\u001b[0;31mValueError\u001b[0m                                Traceback (most recent call last)",
      "\u001b[0;32m<ipython-input-49-5d20d2e11bbf>\u001b[0m in \u001b[0;36m<module>\u001b[0;34m\u001b[0m\n\u001b[1;32m      7\u001b[0m \u001b[0;34m\u001b[0m\u001b[0m\n\u001b[1;32m      8\u001b[0m \u001b[0mqr_alg\u001b[0m \u001b[0;34m=\u001b[0m \u001b[0mQR\u001b[0m\u001b[0;34m(\u001b[0m\u001b[0mm\u001b[0m\u001b[0;34m)\u001b[0m\u001b[0;34m\u001b[0m\u001b[0;34m\u001b[0m\u001b[0m\n\u001b[0;32m----> 9\u001b[0;31m \u001b[0mu\u001b[0m\u001b[0;34m,\u001b[0m \u001b[0mr\u001b[0m \u001b[0;34m=\u001b[0m \u001b[0mqr_alg\u001b[0m\u001b[0;34m.\u001b[0m\u001b[0mdouble_shift\u001b[0m\u001b[0;34m(\u001b[0m\u001b[0;36m1e-128\u001b[0m\u001b[0;34m,\u001b[0m \u001b[0;36m500\u001b[0m\u001b[0;34m)\u001b[0m\u001b[0;34m\u001b[0m\u001b[0;34m\u001b[0m\u001b[0m\n\u001b[0m\u001b[1;32m     10\u001b[0m \u001b[0;31m# print(f\"{pd.DataFrame(r)}\")\u001b[0m\u001b[0;34m\u001b[0m\u001b[0;34m\u001b[0m\u001b[0;34m\u001b[0m\u001b[0m\n\u001b[1;32m     11\u001b[0m \u001b[0meigs\u001b[0m \u001b[0;34m=\u001b[0m \u001b[0mnp\u001b[0m\u001b[0;34m.\u001b[0m\u001b[0msort\u001b[0m\u001b[0;34m(\u001b[0m\u001b[0mnp\u001b[0m\u001b[0;34m.\u001b[0m\u001b[0mdiag\u001b[0m\u001b[0;34m(\u001b[0m\u001b[0mr\u001b[0m\u001b[0;34m)\u001b[0m\u001b[0;34m)\u001b[0m\u001b[0;34m[\u001b[0m\u001b[0;34m:\u001b[0m\u001b[0;34m:\u001b[0m\u001b[0;34m-\u001b[0m\u001b[0;36m1\u001b[0m\u001b[0;34m]\u001b[0m\u001b[0;34m\u001b[0m\u001b[0;34m\u001b[0m\u001b[0m\n",
      "\u001b[0;32m~/Documents/Heidelberg -- WS 2021/NLA/QR-Algorithm/src/qr.py\u001b[0m in \u001b[0;36mdouble_shift\u001b[0;34m(self, eps, n_iter)\u001b[0m\n\u001b[1;32m    415\u001b[0m                         \u001b[0;32mwhile\u001b[0m \u001b[0mabs\u001b[0m\u001b[0;34m(\u001b[0m\u001b[0mH\u001b[0m\u001b[0;34m[\u001b[0m\u001b[0mi\u001b[0m\u001b[0;34m,\u001b[0m \u001b[0mi\u001b[0m \u001b[0;34m-\u001b[0m \u001b[0;36m1\u001b[0m\u001b[0;34m]\u001b[0m\u001b[0;34m)\u001b[0m \u001b[0;34m>\u001b[0m \u001b[0meps\u001b[0m \u001b[0;32mand\u001b[0m \u001b[0mk\u001b[0m \u001b[0;34m<\u001b[0m \u001b[0mn_iter\u001b[0m\u001b[0;34m:\u001b[0m\u001b[0;34m\u001b[0m\u001b[0;34m\u001b[0m\u001b[0m\n\u001b[1;32m    416\u001b[0m                                 \u001b[0;31m# Get the shift.\u001b[0m\u001b[0;34m\u001b[0m\u001b[0;34m\u001b[0m\u001b[0;34m\u001b[0m\u001b[0m\n\u001b[0;32m--> 417\u001b[0;31m                                 \u001b[0mshift\u001b[0m \u001b[0;34m=\u001b[0m \u001b[0mself\u001b[0m\u001b[0;34m.\u001b[0m\u001b[0mwilkinson_shift\u001b[0m\u001b[0;34m(\u001b[0m\u001b[0mH\u001b[0m\u001b[0;34m[\u001b[0m\u001b[0mi\u001b[0m \u001b[0;34m-\u001b[0m \u001b[0;36m1\u001b[0m \u001b[0;34m:\u001b[0m \u001b[0mi\u001b[0m \u001b[0;34m+\u001b[0m \u001b[0;36m1\u001b[0m\u001b[0;34m,\u001b[0m \u001b[0mi\u001b[0m \u001b[0;34m-\u001b[0m \u001b[0;36m1\u001b[0m \u001b[0;34m:\u001b[0m \u001b[0mi\u001b[0m \u001b[0;34m+\u001b[0m \u001b[0;36m1\u001b[0m\u001b[0;34m]\u001b[0m\u001b[0;34m)\u001b[0m\u001b[0;34m\u001b[0m\u001b[0;34m\u001b[0m\u001b[0m\n\u001b[0m\u001b[1;32m    418\u001b[0m \u001b[0;34m\u001b[0m\u001b[0m\n\u001b[1;32m    419\u001b[0m                                 \u001b[0;31m# Calculate the real matrix M.\u001b[0m\u001b[0;34m\u001b[0m\u001b[0;34m\u001b[0m\u001b[0;34m\u001b[0m\u001b[0m\n",
      "\u001b[0;32m~/Documents/Heidelberg -- WS 2021/NLA/QR-Algorithm/src/qr.py\u001b[0m in \u001b[0;36mwilkinson_shift\u001b[0;34m(M)\u001b[0m\n\u001b[1;32m    313\u001b[0m \t\t\"\"\"\n\u001b[1;32m    314\u001b[0m                 \u001b[0;32mif\u001b[0m \u001b[0mM\u001b[0m\u001b[0;34m.\u001b[0m\u001b[0mshape\u001b[0m\u001b[0;34m[\u001b[0m\u001b[0;36m0\u001b[0m\u001b[0;34m]\u001b[0m \u001b[0;34m!=\u001b[0m \u001b[0;36m2\u001b[0m \u001b[0;32mor\u001b[0m \u001b[0mM\u001b[0m\u001b[0;34m.\u001b[0m\u001b[0mshape\u001b[0m\u001b[0;34m[\u001b[0m\u001b[0;36m1\u001b[0m\u001b[0;34m]\u001b[0m \u001b[0;34m!=\u001b[0m \u001b[0;36m2\u001b[0m\u001b[0;34m:\u001b[0m\u001b[0;34m\u001b[0m\u001b[0;34m\u001b[0m\u001b[0m\n\u001b[0;32m--> 315\u001b[0;31m                         \u001b[0;32mraise\u001b[0m \u001b[0mValueError\u001b[0m\u001b[0;34m(\u001b[0m\u001b[0;34mf\"M must be square and of shape (2, 2) but given shape is {M.shape}.\"\u001b[0m\u001b[0;34m)\u001b[0m\u001b[0;34m\u001b[0m\u001b[0;34m\u001b[0m\u001b[0m\n\u001b[0m\u001b[1;32m    316\u001b[0m \u001b[0;34m\u001b[0m\u001b[0m\n\u001b[1;32m    317\u001b[0m                 \u001b[0msigma\u001b[0m \u001b[0;34m=\u001b[0m \u001b[0;36m0.5\u001b[0m \u001b[0;34m*\u001b[0m \u001b[0;34m(\u001b[0m\u001b[0mM\u001b[0m\u001b[0;34m[\u001b[0m\u001b[0;36m0\u001b[0m\u001b[0;34m,\u001b[0m \u001b[0;36m0\u001b[0m\u001b[0;34m]\u001b[0m \u001b[0;34m-\u001b[0m \u001b[0mM\u001b[0m\u001b[0;34m[\u001b[0m\u001b[0;36m1\u001b[0m\u001b[0;34m,\u001b[0m \u001b[0;36m1\u001b[0m\u001b[0;34m]\u001b[0m\u001b[0;34m)\u001b[0m\u001b[0;34m\u001b[0m\u001b[0;34m\u001b[0m\u001b[0m\n",
      "\u001b[0;31mValueError\u001b[0m: M must be square and of shape (2, 2) but given shape is (3, 3)."
     ]
    }
   ],
   "source": [
    "m = np.array([[7, 3, 4, -11, -9, -2],\n",
    "     [-6, 4, -5, 7, 1, 12],\n",
    "     [-1, -9, 2, 2, 9, 1],\n",
    "     [-8, 0, -1, 5, 0, 8],\n",
    "     [-4, 3, -5, 7, 2, 10],\n",
    "     [6, 1, 4, -11, -7, -1]], dtype = np.float64)\n",
    "\n",
    "qr_alg = QR(m)\n",
    "u, r = qr_alg.double_shift(1e-128, 500)\n",
    "# print(f\"{pd.DataFrame(r)}\")\n",
    "eigs = np.sort(np.diag(r))[::-1]\n",
    "eigs_real = np.sort(np.linalg.eig(qr_alg.H)[0])[::-1]\n",
    "eigs_extracted = np.sort(qr_alg.extract_eigs(r))[::-1]\n",
    "print(f\"eigs real:\\n {pd.DataFrame(eigs_real)}\")\n",
    "print(f\"eigs approximated:\\n {pd.DataFrame(eigs_extracted)}\")"
   ]
  },
  {
   "cell_type": "code",
   "execution_count": null,
   "metadata": {},
   "outputs": [],
   "source": []
  }
 ],
 "metadata": {
  "interpreter": {
   "hash": "eb47dbff9c9e2c29d46d2245b140af8eba2cc8bb4f84d6e29ba35904f7ea7f22"
  },
  "kernelspec": {
   "display_name": "Python 3.10.0 ('base-new')",
   "language": "python",
   "name": "python3"
  },
  "language_info": {
   "codemirror_mode": {
    "name": "ipython",
    "version": 3
   },
   "file_extension": ".py",
   "mimetype": "text/x-python",
   "name": "python",
   "nbconvert_exporter": "python",
   "pygments_lexer": "ipython3",
   "version": "3.8.8"
  },
  "orig_nbformat": 4
 },
 "nbformat": 4,
 "nbformat_minor": 2
}
