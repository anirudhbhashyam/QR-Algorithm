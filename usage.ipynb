{
 "cells": [
  {
   "cell_type": "code",
   "execution_count": 4,
   "metadata": {},
   "outputs": [
    {
     "name": "stdout",
     "output_type": "stream",
     "text": [
      "Setup compelete.\n"
     ]
    }
   ],
   "source": [
    "import os\n",
    "import sys\n",
    "import importlib\n",
    "\n",
    "import pandas as pd\n",
    "import numpy as np\n",
    "\n",
    "from scipy.io import mmread\n",
    "\n",
    "sys.path.append(os.path.abspath(\"./src\"))\n",
    "\n",
    "import utility as ut\n",
    "import hessenberg as hg\n",
    "from variables import *\n",
    "from qr import QR\n",
    "\n",
    "\n",
    "pd.set_option(\"display.max_columns\", 10)\n",
    "pd.set_option(\"display.width\", 1000)\n",
    "pd.set_option(\"display.precision\", 12)\n",
    "print(\"Setup compelete.\")\n"
   ]
  },
  {
   "cell_type": "markdown",
   "metadata": {},
   "source": [
    "# Hessenberg Transform"
   ]
  },
  {
   "cell_type": "markdown",
   "metadata": {},
   "source": [
    "The Hessenberg transform is a similarity transformation used to reduce a complex matrix to hessenberg form. The following implementation performs the transform using *householder vectors*. The following cells check that for a given matrix $M \\in \\mathbb{C}^{n \\times n}$,\n",
    "$$M = UHU^{*}$$\n",
    "where, H is the hessenberg form of $M$ and $U$ is a unitary matrix.\n",
    "\n",
    "The unittests present in `/tests` check for the equivalence of the eigenvalues of $M$ and $H$. "
   ]
  },
  {
   "cell_type": "markdown",
   "metadata": {},
   "source": [
    "## Complex Matrices"
   ]
  },
  {
   "cell_type": "code",
   "execution_count": 5,
   "metadata": {},
   "outputs": [
    {
     "name": "stdout",
     "output_type": "stream",
     "text": [
      "Original matrix:\n",
      "                                   0                                 1                                 2                                 3                                 4\n",
      "0  0.6696782689270-7.3815885064220j  12.506928117651+19.965456387162j  27.283831601984+25.294531237348j  10.970564438635+33.880362013856j  12.667215344132-18.801705706750j\n",
      "1   47.752366110635+5.625320783373j -13.453914654475+48.048721433283j  -3.149339651258-18.487038707397j  27.158809235750+29.227676758519j  -7.216557618566+17.358487707208j\n",
      "2 -9.3269502328750-3.2081775229380j  -2.632105720044-12.448959324186j  -3.859980375060+29.443471068737j   9.261707175312+35.906666021207j   6.372722904931+47.230686892053j\n",
      "3   8.245367632522+41.374261009081j  18.101678361529-15.890059624227j   23.877388914371-0.134678604007j   26.166729057342-8.037097075136j   36.841495634809+1.876959460100j\n",
      "4  32.204360096002+19.004606793642j -18.862080862263+22.487952688793j -5.7901998931870-3.4981606743450j  24.946119201799-16.993188722044j   0.357473009105+11.010188969908j\n",
      "Hessenberg transformed:\n",
      "                                  0                                 1                                2                                 3                                 4\n",
      "0   0.669678268927-7.381588506422j   1.442314380341-14.567333583891j -31.046387547478+0.904282853877j -23.771141835314-37.698674151790j   23.205997233754-4.207049218375j\n",
      "1 -74.235118581520-8.745040077078j   2.958145692568+32.291376808618j -26.087784316005+1.322195622038j  1.1765208329960+0.7047031088170j   7.791814087319+36.777531967738j\n",
      "2   0.000000000000+0.000000000000j -55.831950279976+58.146746027073j  12.662747480471+6.279605564639j  3.0783819271130+8.8454855732170j  12.228171437315-32.344258029079j\n",
      "3   0.000000000000+0.000000000000j  0.0000000000000+0.0000000000000j  33.783231019680-9.280197975442j -4.4655098747560+0.7055447441470j  -0.205588039328-20.171870266307j\n",
      "4   0.000000000000+0.000000000000j  0.0000000000000+0.0000000000000j   0.000000000000+0.000000000000j   2.884602212886+13.528805710306j  -1.945076261371+41.188757279389j\n",
      "Transformation matrix:\n",
      "           0                               1                               2                               3                               4\n",
      "0  1.0+0.0j  0.000000000000+0.000000000000j  0.000000000000+0.000000000000j  0.000000000000+0.000000000000j  0.000000000000+0.000000000000j\n",
      "1  0.0+0.0j -0.643258433786+0.000000000000j -0.591201587549+0.078637386178j -0.264970876229+0.063742129209j -0.349463843296+0.184710123388j\n",
      "2  0.0+0.0j  0.128942282566+0.028026790204j -0.455128989581+0.003912834805j -0.344741958482+0.290783860445j  0.615922656342-0.438939277503j\n",
      "3  0.0+0.0j -0.174307883408-0.536807003806j  0.410320154354+0.478560589005j -0.497032166909-0.014630265749j  0.162501712005+0.102030926713j\n",
      "4  0.0+0.0j -0.457623086356-0.202096727936j -0.092614079915+0.176575487326j  0.626504219247-0.287336993667j  0.481348106014-0.056706869448j\n",
      "Is the transformation similar: True\n"
     ]
    }
   ],
   "source": [
    "a = -20\n",
    "b = 50\n",
    "n = 5\n",
    "m = ut.complex_matrix(n, a, b)\n",
    "print(f\"Original matrix:\\n {pd.DataFrame(m)}\")\n",
    "h, u = hg.hessenberg_transform(m) \n",
    "print(f\"Hessenberg transformed:\\n {pd.DataFrame(h)}\")\n",
    "print(f\"Transformation matrix:\\n {pd.DataFrame(u)}\")\n",
    "print(f\"Is the transformation similar: {np.allclose(u @ h @ u.conj().T - m, np.zeros((n, n)))}\")"
   ]
  },
  {
   "cell_type": "markdown",
   "metadata": {},
   "source": [
    "## Real Matrices"
   ]
  },
  {
   "cell_type": "markdown",
   "metadata": {},
   "source": [
    "### Random Matrices"
   ]
  },
  {
   "cell_type": "code",
   "execution_count": 6,
   "metadata": {},
   "outputs": [
    {
     "name": "stdout",
     "output_type": "stream",
     "text": [
      "Original matrix:\n",
      "                  0                1                2                3                4\n",
      "0  22.831855825716 -10.079418189274  34.529711575748  -8.471604503124  -3.278690548549\n",
      "1 -18.557159243252  15.262143528205  30.329424604755  44.172035184412  22.435084714990\n",
      "2  41.446789763873  -4.488100758293  31.906738755144  16.972696645508 -11.606781910368\n",
      "3  -4.849153095586  44.760317268585  17.027664592377  21.310363990978   9.072739778005\n",
      "4 -14.400921319147  18.091476245517   3.739266760629  40.386811811572  13.224686702591\n",
      "Hessenberg transformed:\n",
      "                  0                1                2                3                4\n",
      "0  22.831855825716  35.636173520475  -4.434291098924   2.248202540874   9.042086690190\n",
      "1  47.886379707541  27.728324413449   6.336783421836  19.141131551691 -14.949533232599\n",
      "2   0.000000000000 -21.898055728191   1.471461532299  42.111973032001 -15.131931043302\n",
      "3   0.000000000000   0.000000000000  41.829130088955  50.303342872025 -12.618043472148\n",
      "4   0.000000000000   0.000000000000   0.000000000000 -41.452319626667   2.200804159146\n",
      "Transformation matrix:\n",
      "      0               1               2               3               4\n",
      "0  1.0  0.000000000000  0.000000000000  0.000000000000  0.000000000000\n",
      "1  0.0 -0.387524790067 -0.907013596537 -0.164546619358  0.008676568335\n",
      "2  0.0  0.865523558411 -0.325488605761 -0.228173615984  0.304734209311\n",
      "3  0.0 -0.101263723113  0.214011497976 -0.951536479891 -0.196272933824\n",
      "4  0.0 -0.300731051441  0.159945559333 -0.124255939347  0.931954244738\n",
      "Is the transformation similar: True\n"
     ]
    }
   ],
   "source": [
    "a = -20\n",
    "b = 50\n",
    "n = 5\n",
    "m = (b - a) * np.random.default_rng().random((n, n)) + a\n",
    "print(f\"Original matrix:\\n {pd.DataFrame(m)}\")\n",
    "h, u = hg.hessenberg_transform(m) \n",
    "print(f\"Hessenberg transformed:\\n {pd.DataFrame(h)}\")\n",
    "print(f\"Transformation matrix:\\n {pd.DataFrame(u)}\")\n",
    "print(f\"Is the transformation similar: {np.allclose(u @ h @ u.T - m, np.zeros((n, n)))}\")"
   ]
  },
  {
   "cell_type": "markdown",
   "metadata": {},
   "source": [
    "### Matrix Market"
   ]
  },
  {
   "cell_type": "code",
   "execution_count": 7,
   "metadata": {},
   "outputs": [
    {
     "name": "stdout",
     "output_type": "stream",
     "text": [
      "Is the transformation similar: True\n",
      "Is the transformation similar: True\n"
     ]
    }
   ],
   "source": [
    "files = [\"west0381\", \"blckhole\"]\n",
    "for file in files:\n",
    "\tmat = mmread(os.path.join(\"./test_matrices\", \".\".join([file, MATRIX_MARKET_FILE_EXT])))\n",
    "\tm = mat.toarray()\n",
    "\th, u = hg.hessenberg_transform(m) \n",
    "\tprint(f\"Is the transformation similar: {np.allclose(u @ h @ u.T - m, np.zeros((m.shape[0], m.shape[0])))}\")"
   ]
  },
  {
   "cell_type": "markdown",
   "metadata": {},
   "source": [
    "# QR "
   ]
  },
  {
   "cell_type": "markdown",
   "metadata": {},
   "source": [
    "For a given matrix $M \\in \\mathbb{C}^{n\\times n}$, in general, the $QR$ algorithm seeks to perform the following iteration:\n",
    "* $Q_kR_k := M_k$\n",
    "* $M_{k + 1} := R_kQ_k$\n",
    "\n",
    "This algorithm can be made more stable and efficient in two ways. The first is to use $M$ is hessenberg form and the second is use to use shifts. When $H$ (hessenberg form of $M$), is used, the $QR$ decompisition of $H$ can be procedurally generated using Givens rotation matrices, $G$ (see the documentation for explanation and generation). The generation of the QR decomposition and then the subsequent formation of $RQ$ takes place as follows\n",
    "* $R := G_1 G_2 \\dots G_k H.$\n",
    "* $Q := G_1 G_2 \\dots G_k.$\n",
    "* $H_{\\text{new}} := R G_{k}^{*} G_{k - 1}^{*} \\dots G_{1}^{*} = RQ.$\n",
    "\n",
    "where $k \\leq n - 2$.\n"
   ]
  },
  {
   "cell_type": "markdown",
   "metadata": {},
   "source": [
    "## Wilkinson Shift"
   ]
  },
  {
   "cell_type": "markdown",
   "metadata": {},
   "source": [
    "The Wilkinson shift employs stable shifts to accelerate convergence of the $QR$ hessenberg algorithm. In general the shifted algorithm looks as follows \n",
    "* $Q_kR_k := M_k - \\sigma I$\n",
    "* $M_{k + 1} := R_kQ_k + \\sigma I$\n",
    "\n",
    "The shift $\\sigma$ is calculated as detailed in the documentation. The $QR$ decomposition and subsequent formation of $RQ$ is done using the hessenberg form of $M$ Givens matrices as shown above."
   ]
  },
  {
   "cell_type": "markdown",
   "metadata": {},
   "source": [
    "### Complex Matrices"
   ]
  },
  {
   "cell_type": "code",
   "execution_count": 8,
   "metadata": {},
   "outputs": [
    {
     "name": "stdout",
     "output_type": "stream",
     "text": [
      "                Eigenvalues (Numpy)\n",
      "0  78.946486559668+52.821649792951j\n",
      "1   11.155563036594-3.650871109134j\n",
      "2  -9.585906349648+54.786619857393j\n",
      "3 -21.339852275592-63.396944237597j\n",
      "4 -51.508854830813+27.995642997399j\n",
      "               Eigenvalues (Script)\n",
      "0  78.946486559668+52.821649792951j\n",
      "1   11.155563036572-3.650871109159j\n",
      "2  -9.585906349626+54.786619857419j\n",
      "3 -21.339852275592-63.396944237597j\n",
      "4 -51.508854830812+27.995642997399j\n",
      "Comparing closeness of eigenvelaues from numpy linalg and approximated eigenvalues from the script with tolerance 1e-08: True\n"
     ]
    }
   ],
   "source": [
    "a = -20\n",
    "b = 50\n",
    "n = 5\n",
    "tol = 1e-8\n",
    "m = ut.complex_matrix(n, a, b)\n",
    "qr_alg = QR(m)\n",
    "u, r = qr_alg.qr_wilkinson_shift(1e-128, 500)\n",
    "eigs = np.sort(np.linalg.eig(qr_alg.H.astype(np.complex128))[0])[::-1]\n",
    "eigs_extracted = np.sort(qr_alg.extract_eigs(r))[::-1]\n",
    "print(f\"{pd.DataFrame(eigs, columns = ['Eigenvalues (Numpy)'])}\")\n",
    "print(f\"{pd.DataFrame(eigs_extracted, columns = ['Eigenvalues (Script)'])}\")\n",
    "b, mm = ut.closeness(eigs_extracted, eigs, tol = tol)\n",
    "print(f\"Comparing closeness of eigenvelaues from numpy linalg and approximated eigenvalues from the script with tolerance {tol}: {b}\")\n",
    "if not b:\n",
    "    print(f\"Mismatched elements:\\n {mm}\")\n"
   ]
  },
  {
   "cell_type": "markdown",
   "metadata": {},
   "source": [
    "### Real Matrices"
   ]
  },
  {
   "cell_type": "markdown",
   "metadata": {},
   "source": [
    "#### Random Matrices"
   ]
  },
  {
   "cell_type": "code",
   "execution_count": 14,
   "metadata": {},
   "outputs": [
    {
     "name": "stdout",
     "output_type": "stream",
     "text": [
      "                Eigenvalues (Numpy)\n",
      "0   83.869670863615+0.000000000000j\n",
      "1  29.330356649093+16.228147596952j\n",
      "2  29.330356649093-16.228147596952j\n",
      "3  -21.698910577692+0.000000000000j\n",
      "4  -38.477305285256+0.000000000000j\n",
      "               Eigenvalues (Script)\n",
      "0   83.869670863615+0.000000000000j\n",
      "1  29.330356649093+16.228147596951j\n",
      "2  29.330356649093-16.228147596951j\n",
      "3  -21.698910577692+0.000000000000j\n",
      "4  -38.477305285256+0.000000000000j\n",
      "Comparing closeness of eigenvelaues from numpy linalg and approximated eigenvalues from the script with tolerance 1e-08: True\n"
     ]
    }
   ],
   "source": [
    "a = -20\n",
    "b = 50\n",
    "n = 5\n",
    "tol = 1e-8\n",
    "m = (b - a) * np.random.default_rng().random((n, n)) + a\n",
    "qr_alg = QR(m)\n",
    "u, r = qr_alg.qr_wilkinson_shift(1e-128, 100)\n",
    "eigs = np.sort(np.linalg.eig(qr_alg.H)[0])[::-1]\n",
    "eigs_extracted = np.sort(qr_alg.extract_eigs(r))[::-1]\n",
    "print(f\"{pd.DataFrame(eigs, columns = ['Eigenvalues (Numpy)'])}\")\n",
    "print(f\"{pd.DataFrame(eigs_extracted, columns = ['Eigenvalues (Script)'])}\")\n",
    "b, mm = ut.closeness(eigs_extracted, eigs, tol = tol)\n",
    "print(f\"Comparing closeness of eigenvelaues from numpy linalg and approximated eigenvalues from the script with tolerance {tol}: {b}\")\n",
    "if not b:\n",
    "    print(f\"Mismatched elements:\\n {mm}\")"
   ]
  },
  {
   "cell_type": "code",
   "execution_count": 13,
   "metadata": {},
   "outputs": [
    {
     "name": "stdout",
     "output_type": "stream",
     "text": [
      "   Eigenvalues (Numpy)\n",
      "0             5.0+6.0j\n",
      "1             5.0-6.0j\n",
      "2             4.0+0.0j\n",
      "3             3.0+0.0j\n",
      "4             1.0+2.0j\n",
      "5             1.0-2.0j\n",
      "   Eigenvalues (Script)\n",
      "0              5.0+6.0j\n",
      "1              5.0-6.0j\n",
      "2              4.0+0.0j\n",
      "3              3.0+0.0j\n",
      "4              1.0+2.0j\n",
      "5              1.0-2.0j\n",
      "Comparing closeness of eigenvelaues from numpy linalg and approximated eigenvalues from the script with tolerance 1e-08: True\n"
     ]
    }
   ],
   "source": [
    "m = np.array([[7, 3, 4, -11, -9, -2],\n",
    "     [-6, 4, -5, 7, 1, 12],\n",
    "     [-1, -9, 2, 2, 9, 1],\n",
    "     [-8, 0, -1, 5, 0, 8],\n",
    "     [-4, 3, -5, 7, 2, 10],\n",
    "     [6, 1, 4, -11, -7, -1]], dtype = np.float64)\n",
    "tol = 1e-8\n",
    "qr_alg = QR(m)\n",
    "u, r = qr_alg.qr_wilkinson_shift(1e-128, 100)\n",
    "eigs = np.sort(np.linalg.eig(qr_alg.H.astype(np.complex128))[0])[::-1]\n",
    "eigs_extracted = np.sort(qr_alg.extract_eigs(r))[::-1]\n",
    "print(f\"{pd.DataFrame(eigs, columns = ['Eigenvalues (Numpy)'])}\")\n",
    "print(f\"{pd.DataFrame(eigs_extracted, columns = ['Eigenvalues (Script)'])}\")\n",
    "b, mm = ut.closeness(eigs_extracted, eigs, tol = tol)\n",
    "print(f\"Comparing closeness of eigenvelaues from numpy linalg and approximated eigenvalues from the script with tolerance {tol}: {b}\")\n",
    "if not b:\n",
    "    print(f\"Mismatched elements:\\n {mm}\")"
   ]
  },
  {
   "cell_type": "markdown",
   "metadata": {},
   "source": [
    "#### Matrix Market"
   ]
  },
  {
   "cell_type": "code",
   "execution_count": 22,
   "metadata": {},
   "outputs": [
    {
     "name": "stdout",
     "output_type": "stream",
     "text": [
      "Comparing closeness of eigenvelaues from numpy linalg and approximated eigenvalues from the script with tolerance 1e-08: True\n"
     ]
    }
   ],
   "source": [
    "files = [\"gre__115\"]\n",
    "for file in files:\n",
    "\tmat = mmread(os.path.join(\"./test_matrices\", \".\".join([file, MATRIX_MARKET_FILE_EXT])))\n",
    "\tm = mat.toarray()\n",
    "\ttol = 1e-8\n",
    "\tqr_alg = QR(m)\n",
    "\tu, r = qr_alg.qr_wilkinson_shift(1e-128, 500)\n",
    "\teigs = np.sort(np.linalg.eig(qr_alg.H)[0])[::-1]\n",
    "\teigs_extracted = np.sort(qr_alg.extract_eigs(r))[::-1]\n",
    "\tb, mm = ut.closeness(eigs_extracted, eigs, tol = tol)\n",
    "\tprint(f\"Comparing closeness of eigenvelaues from numpy linalg and approximated eigenvalues from the script with tolerance {tol}: {b}\")\n",
    "\tif not b:\n",
    "\t\tprint(f\"For matrix {file}\")\n",
    "\t\tprint(f\"Number of mismatched eigenvalues: {mm.shape[0]}\")\n",
    "\t\tprint(f\"Average absolute difference in mismatched values {mm['Difference'].mean()}\")\n",
    "\t\t# with open(\"output_mm.txt\", \"w\") as f:\n",
    "\t\t# \tf.write(f\"{mm.to_string()}\")\n",
    "   \n"
   ]
  },
  {
   "cell_type": "markdown",
   "metadata": {},
   "source": [
    "## Double Shift (Inefficient)"
   ]
  },
  {
   "cell_type": "markdown",
   "metadata": {},
   "source": [
    "#### Random Matrices"
   ]
  },
  {
   "cell_type": "code",
   "execution_count": 14,
   "metadata": {},
   "outputs": [
    {
     "name": "stdout",
     "output_type": "stream",
     "text": [
      "   Eigenvalues (Numpy)\n",
      "0             5.0+6.0j\n",
      "1             5.0-6.0j\n",
      "2             4.0+0.0j\n",
      "3             3.0+0.0j\n",
      "4             1.0+2.0j\n",
      "5             1.0-2.0j\n",
      "   Eigenvalues (Script)\n",
      "0              5.0+6.0j\n",
      "1              5.0-6.0j\n",
      "2              4.0+0.0j\n",
      "3              3.0+0.0j\n",
      "4              1.0+2.0j\n",
      "5              1.0-2.0j\n",
      "Comparing closeness of eigenvelaues from numpy linalg and approximated eigenvalues from the script with tolerance 1e-08: True\n"
     ]
    }
   ],
   "source": [
    "m = np.array([[7, 3, 4, -11, -9, -2],\n",
    "     [-6, 4, -5, 7, 1, 12],\n",
    "     [-1, -9, 2, 2, 9, 1],\n",
    "     [-8, 0, -1, 5, 0, 8],\n",
    "     [-4, 3, -5, 7, 2, 10],\n",
    "     [6, 1, 4, -11, -7, -1]], dtype = np.float64)\n",
    "\n",
    "tol = 1e-8\n",
    "qr_alg = QR(m)\n",
    "u, r = qr_alg.double_shift(1e-128, 200)\n",
    "eigs = np.sort(np.linalg.eig(m)[0])[::-1]\n",
    "eigs_extracted = np.sort(qr_alg.extract_eigs(r))[::-1]\n",
    "print(f\"{pd.DataFrame(eigs, columns = ['Eigenvalues (Numpy)'])}\")\n",
    "print(f\"{pd.DataFrame(eigs_extracted, columns = ['Eigenvalues (Script)'])}\")\n",
    "b, mm = ut.closeness(eigs_extracted, eigs, tol = tol)\n",
    "print(f\"Comparing closeness of eigenvelaues from numpy linalg and approximated eigenvalues from the script with tolerance {tol}: {b}\")\n",
    "if not b:\n",
    "    print(f\"Mismatched elements:\\n {mm}\")"
   ]
  },
  {
   "cell_type": "code",
   "execution_count": 4,
   "metadata": {},
   "outputs": [
    {
     "name": "stdout",
     "output_type": "stream",
     "text": [
      "                Eigenvalues (Numpy)\n",
      "0   51.419436746842-0.000000000000j\n",
      "1  22.167285953793+32.133366474526j\n",
      "2  22.167285953793-32.133366474526j\n",
      "3  7.7293981794390+8.8070459431140j\n",
      "4  7.7293981794390-8.8070459431140j\n",
      "               Eigenvalues (Script)\n",
      "0   51.419436746843+0.000000000000j\n",
      "1  22.167285953793+32.133366474526j\n",
      "2  22.167285953793-32.133366474526j\n",
      "3  7.7293981794390+8.8070459431140j\n",
      "4  7.7293981794390-8.8070459431140j\n",
      "Comparing closeness of eigenvelaues from numpy linalg and approximated eigenvalues from the script with tolerance 1e-08: True\n"
     ]
    }
   ],
   "source": [
    "a = -20\n",
    "b = 50\n",
    "n = 5\n",
    "tol = 1e-8\n",
    "m = (b - a) * np.random.default_rng().random((n, n)) + a\n",
    "qr_alg = QR(m)\n",
    "u, r = qr_alg.double_shift(1e-128, 200)\n",
    "eigs = np.sort(np.linalg.eig(qr_alg.H.astype(np.complex128))[0])[::-1]\n",
    "eigs_extracted = np.sort(qr_alg.extract_eigs(r))[::-1]\n",
    "print(f\"{pd.DataFrame(eigs, columns = ['Eigenvalues (Numpy)'])}\")\n",
    "print(f\"{pd.DataFrame(eigs_extracted, columns = ['Eigenvalues (Script)'])}\")\n",
    "b, mm = ut.closeness(eigs_extracted, eigs, tol = tol)\n",
    "print(f\"Comparing closeness of eigenvelaues from numpy linalg and approximated eigenvalues from the script with tolerance {tol}: {b}\")\n",
    "if not b:\n",
    "    print(f\"Mismatched elements:\\n {mm}\")"
   ]
  }
 ],
 "metadata": {
  "interpreter": {
   "hash": "eb47dbff9c9e2c29d46d2245b140af8eba2cc8bb4f84d6e29ba35904f7ea7f22"
  },
  "kernelspec": {
   "display_name": "Python 3.10.0 ('base-new')",
   "language": "python",
   "name": "python3"
  },
  "language_info": {
   "codemirror_mode": {
    "name": "ipython",
    "version": 3
   },
   "file_extension": ".py",
   "mimetype": "text/x-python",
   "name": "python",
   "nbconvert_exporter": "python",
   "pygments_lexer": "ipython3",
   "version": "3.8.8"
  },
  "orig_nbformat": 4
 },
 "nbformat": 4,
 "nbformat_minor": 2
}
