{
 "cells": [
  {
   "cell_type": "code",
   "execution_count": 6,
   "metadata": {},
   "outputs": [
    {
     "name": "stdout",
     "output_type": "stream",
     "text": [
      "Setup compelete.\n"
     ]
    }
   ],
   "source": [
    "import os\n",
    "import sys\n",
    "import importlib\n",
    "\n",
    "import pandas as pd\n",
    "import numpy as np\n",
    "\n",
    "from scipy.io import mmread\n",
    "\n",
    "sys.path.append(os.path.abspath(\"./src\"))\n",
    "\n",
    "import utility as ut\n",
    "import hessenberg as hg\n",
    "from variables import *\n",
    "from qr import QR\n",
    "\n",
    "\n",
    "pd.set_option(\"display.max_columns\", 10)\n",
    "pd.set_option(\"display.width\", 1000)\n",
    "pd.set_option(\"display.precision\", 12)\n",
    "print(\"Setup compelete.\")\n"
   ]
  },
  {
   "cell_type": "markdown",
   "metadata": {},
   "source": [
    "# Hessenberg Transform"
   ]
  },
  {
   "cell_type": "markdown",
   "metadata": {},
   "source": [
    "The Hessenberg transform is a similarity transformation used to reduce a complex matrix to hessenberg form. The following implementation performs the transform using *householder vectors*. The following cells check that for a given matrix $M \\in \\mathbb{C}^{n \\times n}$,\n",
    "$$M = UHU^{*}$$\n",
    "where, H is the hessenberg form of $M$ and $U$ is a unitary matrix.\n",
    "\n",
    "The unittests present in `/tests` check for the equivalence of the eigenvalues of $M$ and $H$. "
   ]
  },
  {
   "cell_type": "markdown",
   "metadata": {},
   "source": [
    "## Complex Matrices"
   ]
  },
  {
   "cell_type": "code",
   "execution_count": 7,
   "metadata": {},
   "outputs": [
    {
     "name": "stdout",
     "output_type": "stream",
     "text": [
      "Original matrix:\n",
      "                                   0                                 1                                 2                                 3                                 4\n",
      "0  16.073493459788+10.073603437667j  19.907746733518+19.146812666067j -17.036828028689+37.346563965095j  45.901097494281-11.180907848347j  16.918617873100+20.898184006594j\n",
      "1  27.540037900158+33.197156488686j   7.796639387605+41.588886854514j   5.726869408585+46.865996161131j  29.367193371282+14.293216757438j  -8.520867915037+46.091179953550j\n",
      "2  25.204933742883+49.432686967186j -0.2316704528710-5.4661755637690j -3.1841929030700+8.4583406704900j -11.937104283268+14.365120534397j -0.4214361323950-7.3595064999230j\n",
      "3 -19.075334242703+28.750312327493j   17.059182125825-8.527876547716j  29.962201966264+23.974239600693j   13.013030072258+0.671861814160j  23.543667752879+18.312533803515j\n",
      "4   16.583915330048+9.219860483798j  26.396163696409-19.699403312789j  10.181639302081+14.834597918322j  44.967448570971-19.176260095219j -17.443491694284+30.262996270439j\n",
      "Hessenberg transformed:\n",
      "                                   0                                 1                                 2                                 3                                 4\n",
      "0  16.073493459788+10.073603437667j  -9.322528504824-53.363921837851j  25.211888170922-27.148497761673j -6.6698278844320+7.3683207370750j   4.537822213752+31.243668624562j\n",
      "1 -51.435972833608-62.001659020786j  10.672260059260+39.814063033761j  -12.247898618122+6.074943818450j  -4.871213091636+11.999727953862j  4.9456600006330+8.5608140396950j\n",
      "2  0.0000000000000+0.0000000000000j  -7.886048512784-89.124403006961j   34.278287529480+4.897848565945j  20.556172406433-15.137322168190j  -6.312018606052+16.804778951365j\n",
      "3  0.0000000000000+0.0000000000000j  0.0000000000000+0.0000000000000j  -5.383538741767+25.879271514276j -30.621943559033+10.645310747783j  21.427531625385-10.387012749754j\n",
      "4  0.0000000000000+0.0000000000000j  0.0000000000000+0.0000000000000j  0.0000000000000+0.0000000000000j   13.232781136884+5.829283861295j -14.146619167199+25.624863262113j\n",
      "Transformation matrix:\n",
      "           0                               1                               2                               3                               4\n",
      "0  1.0+0.0j  0.000000000000+0.000000000000j  0.000000000000+0.000000000000j  0.000000000000+0.000000000000j  0.000000000000+0.000000000000j\n",
      "1  0.0+0.0j -0.535423680801+0.000000000000j  0.640453656594+0.112079289673j  0.361967451305+0.351248419138j  0.188562279105+0.025044116400j\n",
      "2  0.0+0.0j -0.672024591245-0.150984748211j -0.355405068502+0.112033424430j -0.018674179062-0.279501678930j -0.139813487516-0.537312366212j\n",
      "3  0.0+0.0j -0.123486187305-0.410101387927j  0.206150037663-0.528436973824j -0.162344166451+0.116021671659j -0.659827617272+0.140126366696j\n",
      "4  0.0+0.0j -0.219520199473+0.085363527317j  0.217789225512-0.263092142784j -0.788389761826-0.075888902570j  0.447831185579+0.002003751989j\n",
      "Is the transformation similar: True\n"
     ]
    }
   ],
   "source": [
    "a = -20\n",
    "b = 50\n",
    "n = 5\n",
    "m = ut.complex_matrix(n, a, b)\n",
    "print(f\"Original matrix:\\n {pd.DataFrame(m)}\")\n",
    "h, u = hg.hessenberg_transform(m) \n",
    "print(f\"Hessenberg transformed:\\n {pd.DataFrame(h)}\")\n",
    "print(f\"Transformation matrix:\\n {pd.DataFrame(u)}\")\n",
    "print(f\"Is the transformation similar: {np.allclose(u @ h @ u.conj().T - m, np.zeros((n, n)))}\")"
   ]
  },
  {
   "cell_type": "markdown",
   "metadata": {},
   "source": [
    "## Real Matrices"
   ]
  },
  {
   "cell_type": "markdown",
   "metadata": {},
   "source": [
    "### Random Matrices"
   ]
  },
  {
   "cell_type": "code",
   "execution_count": 8,
   "metadata": {},
   "outputs": [
    {
     "name": "stdout",
     "output_type": "stream",
     "text": [
      "Original matrix:\n",
      "                  0                1                2                3                4\n",
      "0  -8.918017136949  34.088862589201  27.381416731384  19.500924744176  16.511029316141\n",
      "1   5.423621711342  -2.861614132498  -4.296769915844  30.529130366580   9.338240785776\n",
      "2  23.111753023803  -1.406750572064  -0.393093575834  15.905483099960  42.929087373510\n",
      "3  39.032995547637  23.979124487523  44.437532577470  19.048302958659  15.763220096837\n",
      "4  38.369669457198   2.533724856220   9.250160343818 -16.756345324223  44.861783686922\n",
      "Hessenberg transformed:\n",
      "                  0                1                2                3                4\n",
      "0  -8.918017136949 -37.083496441256 -29.949458821663  10.411954143945 -13.569381293370\n",
      "1 -59.660498455657  58.237954454395  -0.615749598972 -35.970393020693   9.850425407622\n",
      "2   0.000000000000  29.077347486382   0.382358914422  27.710006567421  -0.495811765708\n",
      "3   0.000000000000   0.000000000000  44.614899182452   3.811774052056 -14.220294576744\n",
      "4   0.000000000000   0.000000000000   0.000000000000   9.121192980057  -1.776708483624\n",
      "Transformation matrix:\n",
      "      0               1               2               3               4\n",
      "0  1.0  0.000000000000  0.000000000000  0.000000000000  0.000000000000\n",
      "1  0.0 -0.090908085781 -0.645193545186  0.117703312496 -0.749404389777\n",
      "2  0.0 -0.387387863361 -0.521866332472  0.497595598308  0.574443030158\n",
      "3  0.0 -0.654251918070 -0.133863946416 -0.740199339790  0.078356932854\n",
      "4  0.0 -0.643133571633  0.541720651381  0.436634272758 -0.319794397635\n",
      "Is the transformation similar: True\n"
     ]
    }
   ],
   "source": [
    "a = -20\n",
    "b = 50\n",
    "n = 5\n",
    "m = (b - a) * np.random.default_rng().random((n, n)) + a\n",
    "print(f\"Original matrix:\\n {pd.DataFrame(m)}\")\n",
    "h, u = hg.hessenberg_transform(m) \n",
    "print(f\"Hessenberg transformed:\\n {pd.DataFrame(h)}\")\n",
    "print(f\"Transformation matrix:\\n {pd.DataFrame(u)}\")\n",
    "print(f\"Is the transformation similar: {np.allclose(u @ h @ u.T - m, np.zeros((n, n)))}\")"
   ]
  },
  {
   "cell_type": "markdown",
   "metadata": {},
   "source": [
    "### Matrix Market"
   ]
  },
  {
   "cell_type": "code",
   "execution_count": 9,
   "metadata": {},
   "outputs": [
    {
     "name": "stdout",
     "output_type": "stream",
     "text": [
      "Is the transformation similar: True\n",
      "Is the transformation similar: True\n"
     ]
    }
   ],
   "source": [
    "files = [\"west0381\", \"blckhole\"]\n",
    "for file in files:\n",
    "\tmat = mmread(os.path.join(\"./test_matrices\", \".\".join([file, MATRIX_MARKET_FILE_EXT])))\n",
    "\tm = mat.toarray()\n",
    "\th, u = hg.hessenberg_transform(m) \n",
    "\tprint(f\"Is the transformation similar: {np.allclose(u @ h @ u.T - m, np.zeros((m.shape[0], m.shape[0])))}\")"
   ]
  },
  {
   "cell_type": "markdown",
   "metadata": {},
   "source": [
    "# QR "
   ]
  },
  {
   "cell_type": "markdown",
   "metadata": {},
   "source": [
    "For a given matrix $M \\in \\mathbb{C}^{n\\times n}$, in general, the $QR$ algorithm seeks to perform the following iteration:\n",
    "* $Q_kR_k := M_k$\n",
    "* $M_{k + 1} := R_kQ_k$\n",
    "\n",
    "This algorithm can be made more stable and efficient in two ways. The first is to use $M$ is hessenberg form and the second is use to use shifts. When $H$ (hessenberg form of $M$), is used, the $QR$ decompisition of $H$ can be procedurally generated using Givens rotation matrices, $G$ (see the documentation for explanation and generation). The generation of the QR decomposition and then the subsequent formation of $RQ$ takes place as follows\n",
    "* $R := G_1 G_2 \\dots G_k H.$\n",
    "* $Q := G_1 G_2 \\dots G_k.$\n",
    "* $H_{\\text{new}} := R G_{k}^{*} G_{k - 1}^{*} \\dots G_{1}^{*} = RQ.$\n",
    "\n",
    "where $k \\leq n - 2$.\n"
   ]
  },
  {
   "cell_type": "markdown",
   "metadata": {},
   "source": [
    "## Wilkinson Shift"
   ]
  },
  {
   "cell_type": "markdown",
   "metadata": {},
   "source": [
    "The Wilkinson shift employs stable shifts to accelerate convergence of the $QR$ hessenberg algorithm. In general the shifted algorithm looks as follows \n",
    "* $Q_kR_k := M_k - \\sigma I$\n",
    "* $M_{k + 1} := R_kQ_k + \\sigma I$\n",
    "\n",
    "The shift $\\sigma$ is calculated as detailed in the documentation. The $QR$ decomposition and subsequent formation of $RQ$ is done using the hessenberg form of $M$ Givens matrices as shown above."
   ]
  },
  {
   "cell_type": "markdown",
   "metadata": {},
   "source": [
    "### Complex Matrices"
   ]
  },
  {
   "cell_type": "code",
   "execution_count": 10,
   "metadata": {},
   "outputs": [
    {
     "name": "stdout",
     "output_type": "stream",
     "text": [
      "                Eigenvalues (Numpy)\n",
      "0  96.392487866127+82.888324304038j\n",
      "1  58.767800940228-22.798970333181j\n",
      "2  36.008519199485+18.152055587254j\n",
      "3 -27.289164697473-38.269900533519j\n",
      "4 -43.048861468545+15.763956958370j\n",
      "               Eigenvalues (Script)\n",
      "0  96.392487866127+82.888324304038j\n",
      "1  58.767800940228-22.798970333181j\n",
      "2  36.008519199485+18.152055587254j\n",
      "3 -27.289164697473-38.269900533519j\n",
      "4 -43.048861468545+15.763956958370j\n",
      "Comparing closeness of eigenvelaues from numpy linalg and approximated eigenvalues from the script with tolerance 1e-08: True\n"
     ]
    }
   ],
   "source": [
    "a = -20\n",
    "b = 50\n",
    "n = 5\n",
    "tol = 1e-8\n",
    "m = ut.complex_matrix(n, a, b)\n",
    "qr_alg = QR(m)\n",
    "u, r = qr_alg.qr_wilkinson_shift(1e-128, 500)\n",
    "eigs = np.sort(np.linalg.eig(qr_alg.H.astype(np.complex128))[0])[::-1]\n",
    "eigs_extracted = np.sort(qr_alg.extract_eigs(r))[::-1]\n",
    "print(f\"{pd.DataFrame(eigs, columns = ['Eigenvalues (Numpy)'])}\")\n",
    "print(f\"{pd.DataFrame(eigs_extracted, columns = ['Eigenvalues (Script)'])}\")\n",
    "b, mm = ut.closeness(eigs_extracted, eigs, tol = tol)\n",
    "print(f\"Comparing closeness of eigenvelaues from numpy linalg and approximated eigenvalues from the script with tolerance {tol}: {b}\")\n",
    "if not b:\n",
    "    print(f\"Mismatched elements:\\n {mm}\")"
   ]
  },
  {
   "cell_type": "markdown",
   "metadata": {},
   "source": [
    "### Real Matrices"
   ]
  },
  {
   "cell_type": "markdown",
   "metadata": {},
   "source": [
    "#### Random Matrices"
   ]
  },
  {
   "cell_type": "code",
   "execution_count": 11,
   "metadata": {},
   "outputs": [
    {
     "name": "stdout",
     "output_type": "stream",
     "text": [
      "                Eigenvalues (Numpy)\n",
      "0   76.522886347993+0.000000000000j\n",
      "1   53.560273379421+0.000000000000j\n",
      "2  0.9366391276240+0.0000000000000j\n",
      "3 -18.233164827394+16.004279105207j\n",
      "4 -18.233164827394-16.004279105207j\n",
      "               Eigenvalues (Script)\n",
      "0   76.522886347993+0.000000000000j\n",
      "1   53.560273379421+0.000000000000j\n",
      "2  0.9366391276240+0.0000000000000j\n",
      "3 -18.233164827394+16.004279105207j\n",
      "4 -18.233164827394-16.004279105207j\n",
      "Comparing closeness of eigenvelaues from numpy linalg and approximated eigenvalues from the script with tolerance 1e-08: True\n"
     ]
    }
   ],
   "source": [
    "a = -20\n",
    "b = 50\n",
    "n = 5\n",
    "tol = 1e-8\n",
    "m = (b - a) * np.random.default_rng().random((n, n)) + a\n",
    "qr_alg = QR(m)\n",
    "u, r = qr_alg.qr_wilkinson_shift(1e-128, 500)\n",
    "eigs = np.sort(np.linalg.eig(qr_alg.H.astype(np.complex128))[0])[::-1]\n",
    "eigs_extracted = np.sort(qr_alg.extract_eigs(r))[::-1]\n",
    "print(f\"{pd.DataFrame(eigs, columns = ['Eigenvalues (Numpy)'])}\")\n",
    "print(f\"{pd.DataFrame(eigs_extracted, columns = ['Eigenvalues (Script)'])}\")\n",
    "b, mm = ut.closeness(eigs_extracted, eigs, tol = tol)\n",
    "print(f\"Comparing closeness of eigenvelaues from numpy linalg and approximated eigenvalues from the script with tolerance {tol}: {b}\")\n",
    "if not b:\n",
    "    print(f\"Mismatched elements:\\n {mm}\")"
   ]
  },
  {
   "cell_type": "code",
   "execution_count": 12,
   "metadata": {},
   "outputs": [
    {
     "name": "stdout",
     "output_type": "stream",
     "text": [
      "   Eigenvalues (Numpy)\n",
      "0             5.0+6.0j\n",
      "1             5.0-6.0j\n",
      "2             4.0+0.0j\n",
      "3             3.0+0.0j\n",
      "4             1.0+2.0j\n",
      "5             1.0-2.0j\n",
      "   Eigenvalues (Script)\n",
      "0              5.0+6.0j\n",
      "1              5.0-6.0j\n",
      "2              4.0+0.0j\n",
      "3              3.0+0.0j\n",
      "4              1.0+2.0j\n",
      "5              1.0-2.0j\n",
      "Comparing closeness of eigenvelaues from numpy linalg and approximated eigenvalues from the script with tolerance 1e-08: True\n"
     ]
    }
   ],
   "source": [
    "m = np.array([[7, 3, 4, -11, -9, -2],\n",
    "     [-6, 4, -5, 7, 1, 12],\n",
    "     [-1, -9, 2, 2, 9, 1],\n",
    "     [-8, 0, -1, 5, 0, 8],\n",
    "     [-4, 3, -5, 7, 2, 10],\n",
    "     [6, 1, 4, -11, -7, -1]], dtype = np.float64)\n",
    "tol = 1e-8\n",
    "qr_alg = QR(m)\n",
    "u, r = qr_alg.qr_wilkinson_shift(1e-128, 500)\n",
    "eigs = np.sort(np.linalg.eig(qr_alg.H.astype(np.complex128))[0])[::-1]\n",
    "eigs_extracted = np.sort(qr_alg.extract_eigs(r))[::-1]\n",
    "print(f\"{pd.DataFrame(eigs, columns = ['Eigenvalues (Numpy)'])}\")\n",
    "print(f\"{pd.DataFrame(eigs_extracted, columns = ['Eigenvalues (Script)'])}\")\n",
    "b, mm = ut.closeness(eigs_extracted, eigs, tol = tol)\n",
    "print(f\"Comparing closeness of eigenvelaues from numpy linalg and approximated eigenvalues from the script with tolerance {tol}: {b}\")\n",
    "if not b:\n",
    "    print(f\"Mismatched elements:\\n {mm}\")"
   ]
  },
  {
   "cell_type": "markdown",
   "metadata": {},
   "source": [
    "#### Matrix Market"
   ]
  },
  {
   "cell_type": "code",
   "execution_count": 13,
   "metadata": {},
   "outputs": [
    {
     "name": "stdout",
     "output_type": "stream",
     "text": [
      "Comparing closeness of eigenvelaues from numpy linalg and approximated eigenvalues from the script with tolerance 1e-08: True\n"
     ]
    }
   ],
   "source": [
    "files = [\"gre__115\"]\n",
    "for file in files:\n",
    "\tmat = mmread(os.path.join(\"./test_matrices\", \".\".join([file, MATRIX_MARKET_FILE_EXT])))\n",
    "\tm = mat.toarray()\n",
    "\ttol = 1e-8\n",
    "\tqr_alg = QR(m)\n",
    "\tu, r = qr_alg.qr_wilkinson_shift(1e-128, 200)\n",
    "\teigs = np.sort(np.linalg.eig(qr_alg.H)[0])[::-1]\n",
    "\teigs_extracted = np.sort(qr_alg.extract_eigs(r))[::-1]\n",
    "\tb, mm = ut.closeness(eigs_extracted, eigs, tol = tol)\n",
    "\tprint(f\"Comparing closeness of eigenvelaues from numpy linalg and approximated eigenvalues from the script with tolerance {tol}: {b}\")\n",
    "\tif not b:\n",
    "\t\twith open(\"output_mm.txt\", \"w\") as f:\n",
    "\t\t\tf.write(f\"{mm.to_string()}\")"
   ]
  },
  {
   "cell_type": "markdown",
   "metadata": {},
   "source": [
    "## Double Shift"
   ]
  },
  {
   "cell_type": "markdown",
   "metadata": {},
   "source": [
    "#### Random Matrices"
   ]
  },
  {
   "cell_type": "code",
   "execution_count": 14,
   "metadata": {},
   "outputs": [
    {
     "name": "stdout",
     "output_type": "stream",
     "text": [
      "   Eigenvalues (Numpy)\n",
      "0             5.0+6.0j\n",
      "1             5.0-6.0j\n",
      "2             4.0+0.0j\n",
      "3             3.0+0.0j\n",
      "4             1.0+2.0j\n",
      "5             1.0-2.0j\n",
      "   Eigenvalues (Script)\n",
      "0              5.0+6.0j\n",
      "1              5.0-6.0j\n",
      "2              4.0+0.0j\n",
      "3              3.0+0.0j\n",
      "4              1.0+2.0j\n",
      "5              1.0-2.0j\n",
      "Comparing closeness of eigenvelaues from numpy linalg and approximated eigenvalues from the script with tolerance 1e-08: True\n"
     ]
    }
   ],
   "source": [
    "m = np.array([[7, 3, 4, -11, -9, -2],\n",
    "     [-6, 4, -5, 7, 1, 12],\n",
    "     [-1, -9, 2, 2, 9, 1],\n",
    "     [-8, 0, -1, 5, 0, 8],\n",
    "     [-4, 3, -5, 7, 2, 10],\n",
    "     [6, 1, 4, -11, -7, -1]], dtype = np.float64)\n",
    "\n",
    "tol = 1e-8\n",
    "qr_alg = QR(m)\n",
    "u, r = qr_alg.double_shift(1e-128, 200)\n",
    "eigs = np.sort(np.linalg.eig(m)[0])[::-1]\n",
    "eigs_extracted = np.sort(qr_alg.extract_eigs(r))[::-1]\n",
    "print(f\"{pd.DataFrame(eigs, columns = ['Eigenvalues (Numpy)'])}\")\n",
    "print(f\"{pd.DataFrame(eigs_extracted, columns = ['Eigenvalues (Script)'])}\")\n",
    "b, mm = ut.closeness(eigs_extracted, eigs, tol = tol)\n",
    "print(f\"Comparing closeness of eigenvelaues from numpy linalg and approximated eigenvalues from the script with tolerance {tol}: {b}\")\n",
    "if not b:\n",
    "    print(f\"Mismatched elements:\\n {mm}\")"
   ]
  },
  {
   "cell_type": "code",
   "execution_count": 4,
   "metadata": {},
   "outputs": [
    {
     "name": "stdout",
     "output_type": "stream",
     "text": [
      "                Eigenvalues (Numpy)\n",
      "0   51.419436746842-0.000000000000j\n",
      "1  22.167285953793+32.133366474526j\n",
      "2  22.167285953793-32.133366474526j\n",
      "3  7.7293981794390+8.8070459431140j\n",
      "4  7.7293981794390-8.8070459431140j\n",
      "               Eigenvalues (Script)\n",
      "0   51.419436746843+0.000000000000j\n",
      "1  22.167285953793+32.133366474526j\n",
      "2  22.167285953793-32.133366474526j\n",
      "3  7.7293981794390+8.8070459431140j\n",
      "4  7.7293981794390-8.8070459431140j\n",
      "Comparing closeness of eigenvelaues from numpy linalg and approximated eigenvalues from the script with tolerance 1e-08: True\n"
     ]
    }
   ],
   "source": [
    "a = -20\n",
    "b = 50\n",
    "n = 5\n",
    "tol = 1e-8\n",
    "m = (b - a) * np.random.default_rng().random((n, n)) + a\n",
    "qr_alg = QR(m)\n",
    "u, r = qr_alg.double_shift(1e-128, 200)\n",
    "eigs = np.sort(np.linalg.eig(qr_alg.H.astype(np.complex128))[0])[::-1]\n",
    "eigs_extracted = np.sort(qr_alg.extract_eigs(r))[::-1]\n",
    "print(f\"{pd.DataFrame(eigs, columns = ['Eigenvalues (Numpy)'])}\")\n",
    "print(f\"{pd.DataFrame(eigs_extracted, columns = ['Eigenvalues (Script)'])}\")\n",
    "b, mm = ut.closeness(eigs_extracted, eigs, tol = tol)\n",
    "print(f\"Comparing closeness of eigenvelaues from numpy linalg and approximated eigenvalues from the script with tolerance {tol}: {b}\")\n",
    "if not b:\n",
    "    print(f\"Mismatched elements:\\n {mm}\")"
   ]
  }
 ],
 "metadata": {
  "interpreter": {
   "hash": "eb47dbff9c9e2c29d46d2245b140af8eba2cc8bb4f84d6e29ba35904f7ea7f22"
  },
  "kernelspec": {
   "display_name": "Python 3.10.0 ('base-new')",
   "language": "python",
   "name": "python3"
  },
  "language_info": {
   "codemirror_mode": {
    "name": "ipython",
    "version": 3
   },
   "file_extension": ".py",
   "mimetype": "text/x-python",
   "name": "python",
   "nbconvert_exporter": "python",
   "pygments_lexer": "ipython3",
   "version": "3.8.8"
  },
  "orig_nbformat": 4
 },
 "nbformat": 4,
 "nbformat_minor": 2
}
