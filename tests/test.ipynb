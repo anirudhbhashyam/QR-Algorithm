{
 "cells": [
  {
   "cell_type": "code",
   "execution_count": 191,
   "metadata": {},
   "outputs": [],
   "source": [
    "\n",
    "import os\n",
    "import sys\n",
    "import numpy as np\n",
    "import pandas as pd\n",
    "from scipy.io import mmread\n",
    "from scipy.linalg import hessenberg\n",
    "\n",
    "sys.path.append(\"../qr\")\n",
    "\n",
    "from qr import *\n",
    "import sympy as sp"
   ]
  },
  {
   "cell_type": "code",
   "execution_count": 192,
   "metadata": {},
   "outputs": [
    {
     "ename": "ValueError",
     "evalue": "matmul: Input operand 1 has a mismatch in its core dimension 0, with gufunc signature (n?,k),(k,m?)->(n?,m?) (size 3 is different from 5)",
     "output_type": "error",
     "traceback": [
      "\u001b[0;31m---------------------------------------------------------------------------\u001b[0m",
      "\u001b[0;31mValueError\u001b[0m                                Traceback (most recent call last)",
      "\u001b[0;32m/var/folders/cn/b55c0q953914ctjhjvrmr_mc0000gn/T/ipykernel_31867/3530457431.py\u001b[0m in \u001b[0;36m<module>\u001b[0;34m\u001b[0m\n\u001b[1;32m      1\u001b[0m \u001b[0ma\u001b[0m \u001b[0;34m=\u001b[0m \u001b[0mnp\u001b[0m\u001b[0;34m.\u001b[0m\u001b[0mrandom\u001b[0m\u001b[0;34m.\u001b[0m\u001b[0mdefault_rng\u001b[0m\u001b[0;34m(\u001b[0m\u001b[0;34m)\u001b[0m\u001b[0;34m.\u001b[0m\u001b[0mintegers\u001b[0m\u001b[0;34m(\u001b[0m\u001b[0;36m0\u001b[0m\u001b[0;34m,\u001b[0m \u001b[0;36m10\u001b[0m\u001b[0;34m,\u001b[0m \u001b[0;34m(\u001b[0m\u001b[0;36m4\u001b[0m\u001b[0;34m,\u001b[0m \u001b[0;36m5\u001b[0m\u001b[0;34m)\u001b[0m\u001b[0;34m)\u001b[0m\u001b[0;34m\u001b[0m\u001b[0;34m\u001b[0m\u001b[0m\n\u001b[1;32m      2\u001b[0m \u001b[0mb\u001b[0m \u001b[0;34m=\u001b[0m \u001b[0mnp\u001b[0m\u001b[0;34m.\u001b[0m\u001b[0mrandom\u001b[0m\u001b[0;34m.\u001b[0m\u001b[0mdefault_rng\u001b[0m\u001b[0;34m(\u001b[0m\u001b[0;34m)\u001b[0m\u001b[0;34m.\u001b[0m\u001b[0mintegers\u001b[0m\u001b[0;34m(\u001b[0m\u001b[0;36m0\u001b[0m\u001b[0;34m,\u001b[0m \u001b[0;36m10\u001b[0m\u001b[0;34m,\u001b[0m \u001b[0;34m(\u001b[0m\u001b[0;36m3\u001b[0m\u001b[0;34m,\u001b[0m \u001b[0;36m3\u001b[0m\u001b[0;34m)\u001b[0m\u001b[0;34m)\u001b[0m\u001b[0;34m\u001b[0m\u001b[0;34m\u001b[0m\u001b[0m\n\u001b[0;32m----> 3\u001b[0;31m \u001b[0ma\u001b[0m \u001b[0;34m@\u001b[0m \u001b[0mb\u001b[0m\u001b[0;34m\u001b[0m\u001b[0;34m\u001b[0m\u001b[0m\n\u001b[0m",
      "\u001b[0;31mValueError\u001b[0m: matmul: Input operand 1 has a mismatch in its core dimension 0, with gufunc signature (n?,k),(k,m?)->(n?,m?) (size 3 is different from 5)"
     ]
    }
   ],
   "source": [
    "a = np.random.default_rng().integers(0, 10, (4, 5))\n",
    "b = np.random.default_rng().integers(0, 10, (3, 3))\n",
    "a @ b "
   ]
  },
  {
   "cell_type": "code",
   "execution_count": 189,
   "metadata": {},
   "outputs": [],
   "source": [
    "path = \"../test_matrices\"\n",
    "mat_1_file = \"west0381\"\n",
    "ext = \".mtx.gz\"\n",
    "\n",
    "mat = mmread(os.path.join(path, \"\".join((mat_1_file, ext))))"
   ]
  },
  {
   "cell_type": "code",
   "execution_count": 190,
   "metadata": {},
   "outputs": [
    {
     "data": {
      "text/plain": [
       "array([[0., 0., 0., ..., 0., 0., 0.],\n",
       "       [0., 0., 0., ..., 0., 0., 0.],\n",
       "       [0., 0., 0., ..., 0., 0., 0.],\n",
       "       ...,\n",
       "       [0., 0., 0., ..., 0., 0., 0.],\n",
       "       [0., 0., 0., ..., 0., 0., 0.],\n",
       "       [0., 0., 0., ..., 1., 0., 0.]])"
      ]
     },
     "execution_count": 190,
     "metadata": {},
     "output_type": "execute_result"
    }
   ],
   "source": [
    "m = mat.toarray()\n",
    "m"
   ]
  },
  {
   "cell_type": "code",
   "execution_count": 138,
   "metadata": {},
   "outputs": [],
   "source": [
    "import mpmath as mpm\n",
    "\n",
    "mpm.dps = 15\n",
    "\n",
    "def complex_matrix(n: int, a: float, b: float) -> np.ndarray:\n",
    "\tif a >= b:\n",
    "\t\traise ValueError(\"Required: b > a\")\n",
    "\t\n",
    "\tr = (b - a) * np.random.default_rng().random(size = (n, n)) + a\n",
    "\tc = (b - a) * np.random.default_rng().random(size = (n, n)) + a\n",
    "\tm = r + 1j * c\n",
    "\t\n",
    "\treturn m.astype(np.complex128)\n",
    "\n",
    "def householder_reflector(x: np.array):\n",
    "\t\"\"\"\n",
    "\tProduces the Householder\n",
    "\tvector based on the input \n",
    "\tvector x. The householder \n",
    " \tvector acts as:\n",
    " \n",
    "\t|a_1|\t\t|alpha|\t\n",
    "\t|a_2|\t->\t|0|\n",
    "\t|a_3|\t\t|0|\n",
    "\n",
    "\tParameters\n",
    "\t----------\n",
    "\tx:\t\n",
    "\t\tA numpy array who's entries\n",
    "\t\tafter the 1st element needs to \n",
    "\t\tbe 0ed. \n",
    "  \n",
    "\tReturns\n",
    "\t-------\n",
    "\tA numpy array that acts as the \n",
    "\tHouseholder vector. \n",
    "\t\"\"\"\n",
    "\tu = x.copy()\n",
    "\t\n",
    "\trho = -np.exp(1j * np.angle(u[0]), dtype = np.complex128)\n",
    "\n",
    "\t# Set the Householder vector\n",
    "\t# to u = u \\pm alpha e_1 to \n",
    "\t# avoid cancellation.\n",
    "\tu[0] -= rho * mpm.norm(u)\n",
    " \n",
    "\t# Vector needs to have 1 \n",
    "\t# in the 2nd dimension.\n",
    "\t# print(u)\n",
    "\treturn u.reshape(-1, 1)\n",
    "\n",
    "def hessenberg_transform_1(M: np.ndarray) -> np.ndarray:\n",
    "\t\"\"\"\n",
    "\tConverts a given matrix to \n",
    "\tHessenberg form using\n",
    "\tHoueholder transformations.\n",
    "\n",
    "\tParameters\n",
    "\t----------\n",
    "\tM:\t\n",
    " \t\tA complex square \n",
    "\t\tnumpy 2darray.\n",
    "\n",
    "\tReturns\n",
    "\t-------\n",
    "\tA tuple consisting of numpy\n",
    " \t2-D arrays which are the \n",
    "\thessenberg form and the \n",
    "\tpermutation matrix.\n",
    "\t\"\"\"\n",
    "\th = M.copy()\n",
    "\tn = np.array(h.tolist()).shape[0]\n",
    "\tu = np.eye(n, dtype = np.complex128)\n",
    "\thouseholder_vectors = list()\n",
    " \n",
    "\t# MAIN LOOP.\n",
    "\tfor l in range(n - 2):\n",
    "\t\t# Get the Householder vector for h.\n",
    "\t\tt = householder_reflector(h[l + 1 :, l])\n",
    "\n",
    "\t\t# Norm**2 of the Householder vector.\n",
    "\t\tt_norm_squared = t.conj().T @ t\n",
    "  \n",
    "\t\t# p = np.eye(h[l + 1:, l].shape[0]) - 2 * (np.outer(t, t)) / t_norm_squared\n",
    "\n",
    "\t\t# # Resize and refactor the Householder matrix.\n",
    "\t\t# p = np.pad(p, ((l + 1, 0), (l + 1, 0)), mode = \"constant\", constant_values = ((0, 0), (0, 0)))\n",
    "\t\t# for k in range(l + 1):\n",
    "\t\t# \tp[k, k] = 1\n",
    "\n",
    "\t\t# Perform a similarity transformation on h\n",
    "\t\t# using the Householder matrix.\n",
    "\t\t# h = p @ h @ p.\n",
    "  \n",
    "\t\t# --- REAL --- #\n",
    "\t\t# Left multiplication by I - 2uu^{*}.\n",
    "\t\t# h_real[l + 1 :, l :] -= 2 * (t @ (t.conj().T @ h_real[l + 1 :, l :])) / t_norm_squared\n",
    "\t\t# Right multiplication by I - 2uu^{*}.\n",
    "\t\t# h_real[ :, l + 1 :] -= 2 * ((h[ :, l + 1 :] @ t) @ t.conj().T) / t_norm_squared\n",
    "\t\t# print(f\"{np.array(h[l + 1 :, l :].tolist()).shape = }\")\n",
    "\t\t# print(f\"{np.array(t.transpose_conj().tolist()).shape = }\")\n",
    "\t\t# print(f\"{np.array((t.transpose_conj() * h[l + 1 :, l :]).tolist()).shape = }\")\n",
    "\t\tfactor = 2 / t_norm_squared\n",
    "  \n",
    "\t\th[l + 1 :, l :] -= factor * (t @ (t.conj().T @ h[l + 1 :, l :]))\n",
    "\n",
    "\t\t# --- IMAGINARY --- #\n",
    "\t\t# Left multiplication by I - 2uu^{*}.\n",
    "\t\t# h_imag[l + 1 :, l :] -= 2 * (t @ (t.conj().T @ h_imag[l + 1 :, l :])) / t_norm_squared\n",
    "\t\t# Right multiplication by I - 2uu^{*}.\n",
    "\t\t# h_imag[ :, l + 1 :] -= 2 * ((h[ :, l + 1 :] @ t) @ t.conj().T) / t_norm_squared\n",
    "\t\th[ :, l + 1 :] -= factor * ((h[ :, l + 1 :] @ t) @ t.conj().T)\n",
    "\t\t\n",
    "\t\t# Force elements below main\n",
    "\t\t# subdiagonal to be 0.\n",
    "\t\th[l + 2 :, l] = 0.0\n",
    "\n",
    "\t\t# Store the transformations \n",
    "\t\t# to compute u.\n",
    "\t\thouseholder_vectors.append(t)\n",
    "\t\t\t\n",
    "\t# Store the transformations.\n",
    "\tfor k in reversed(range(n - 2)):\n",
    "\t\tt = householder_vectors[k]\n",
    "\t\tt_norm_squared = np.dot(t.conj().T, t)\n",
    "\t\tu[k + 1 :, k + 1 :] = 2 * t * (t.conj().T @ u[k + 1 :, k + 1 :]) / t_norm_squared\n",
    "\n",
    "\t# h = h_real + 1j * h_imag\n",
    "\treturn h, u"
   ]
  },
  {
   "cell_type": "code",
   "execution_count": 186,
   "metadata": {},
   "outputs": [
    {
     "name": "stderr",
     "output_type": "stream",
     "text": [
      "../qr/hessenberg.py:51: ComplexWarning: Casting complex values to real discards the imaginary part\n",
      "  \n"
     ]
    }
   ],
   "source": [
    "n = 1000\n",
    "a = 10.0\n",
    "b = 20.0\n",
    "# m = complex_matrix(n, a, b)\n",
    "# M = mpm.matrix(m.tolist())\n",
    "hess_from_alg, _ = hessenberg_transform_1(m)\n",
    "hess_from_scipy = hessenberg(m) "
   ]
  },
  {
   "cell_type": "code",
   "execution_count": 187,
   "metadata": {},
   "outputs": [],
   "source": [
    "%%capture cap --no-stderr\n",
    "\n",
    "pd.options.display.max_columns = 200\n",
    "pd.set_option(\"display.width\", 1000)\n",
    "pd.set_option(\"display.max_columns\", 200)\n",
    "pd.set_option(\"display.max_rows\", 1000)\n",
    "\n",
    "# print(f\" Hessenberged:\\n {pd.DataFrame(hess_alg)}\")\n",
    "# print(f\"Hessenberged (scipy):\\n {pd.DataFrame(hess_from_scipy)}\")\n",
    "eigs = np.sort(np.linalg.eig(hess_from_alg)[0])\n",
    "eigs_scipy = np.sort(np.linalg.eig(hess_from_scipy)[0])\n",
    "print(f\"Eigs:\\n {pd.DataFrame(np.vstack([eigs, eigs_scipy]).T)}\")\n",
    "print(f\"Equality of eigs: {np.testing.assert_allclose(eigs_scipy, eigs, rtol = 1e-6)}\")"
   ]
  },
  {
   "cell_type": "code",
   "execution_count": 188,
   "metadata": {},
   "outputs": [],
   "source": [
    "with open(\"test_ipynb_output.txt\", \"w\") as f:\n",
    "    f.write(cap.stdout)"
   ]
  },
  {
   "cell_type": "code",
   "execution_count": null,
   "metadata": {},
   "outputs": [],
   "source": []
  }
 ],
 "metadata": {
  "interpreter": {
   "hash": "06abd6f173df01cc67518e46e8d6f47a26fcce4fda82d5507cd009e845085f87"
  },
  "kernelspec": {
   "display_name": "Python 3.8.5 64-bit ('mlenv': conda)",
   "language": "python",
   "name": "python3"
  },
  "language_info": {
   "codemirror_mode": {
    "name": "ipython",
    "version": 3
   },
   "file_extension": ".py",
   "mimetype": "text/x-python",
   "name": "python",
   "nbconvert_exporter": "python",
   "pygments_lexer": "ipython3",
   "version": "3.8.5"
  },
  "orig_nbformat": 4
 },
 "nbformat": 4,
 "nbformat_minor": 2
}
